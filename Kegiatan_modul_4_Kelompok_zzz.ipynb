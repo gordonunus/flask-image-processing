{
  "nbformat": 4,
  "nbformat_minor": 0,
  "metadata": {
    "colab": {
      "name": "Kegiatan_modul_4_Kelompok zzz.ipynb",
      "provenance": [],
      "collapsed_sections": [],
      "include_colab_link": true
    },
    "kernelspec": {
      "name": "python3",
      "display_name": "Python 3"
    },
    "language_info": {
      "name": "python"
    }
  },
  "cells": [
    {
      "cell_type": "markdown",
      "metadata": {
        "id": "view-in-github",
        "colab_type": "text"
      },
      "source": [
        "<a href=\"https://colab.research.google.com/github/gordonunus/flask-image-processing/blob/main/Kegiatan_modul_4_Kelompok_zzz.ipynb\" target=\"_parent\"><img src=\"https://colab.research.google.com/assets/colab-badge.svg\" alt=\"Open In Colab\"/></a>"
      ]
    },
    {
      "cell_type": "code",
      "metadata": {
        "id": "rROq4dw9_EJF",
        "colab": {
          "base_uri": "https://localhost:8080/"
        },
        "outputId": "57402dc2-80c9-459d-b493-14f2663bf255"
      },
      "source": [
        "!pip install -q kaggle==1.5.8"
      ],
      "execution_count": 1,
      "outputs": [
        {
          "output_type": "stream",
          "name": "stdout",
          "text": [
            "\u001b[?25l\r\u001b[K     |█████▌                          | 10 kB 21.6 MB/s eta 0:00:01\r\u001b[K     |███████████                     | 20 kB 24.9 MB/s eta 0:00:01\r\u001b[K     |████████████████▋               | 30 kB 28.0 MB/s eta 0:00:01\r\u001b[K     |██████████████████████▏         | 40 kB 30.5 MB/s eta 0:00:01\r\u001b[K     |███████████████████████████▊    | 51 kB 33.1 MB/s eta 0:00:01\r\u001b[K     |████████████████████████████████| 59 kB 6.2 MB/s \n",
            "\u001b[?25h  Building wheel for kaggle (setup.py) ... \u001b[?25l\u001b[?25hdone\n",
            "  Building wheel for slugify (setup.py) ... \u001b[?25l\u001b[?25hdone\n"
          ]
        }
      ]
    },
    {
      "cell_type": "code",
      "metadata": {
        "colab": {
          "base_uri": "https://localhost:8080/"
        },
        "id": "3juEUiNgFrRQ",
        "outputId": "68da1cf9-a8f0-4d8a-8837-782307ec86a2"
      },
      "source": [
        "!pip install opendatasets"
      ],
      "execution_count": 2,
      "outputs": [
        {
          "output_type": "stream",
          "name": "stdout",
          "text": [
            "Collecting opendatasets\n",
            "  Downloading opendatasets-0.1.20-py3-none-any.whl (14 kB)\n",
            "Requirement already satisfied: kaggle in /usr/local/lib/python3.7/dist-packages (from opendatasets) (1.5.8)\n",
            "Requirement already satisfied: tqdm in /usr/local/lib/python3.7/dist-packages (from opendatasets) (4.62.3)\n",
            "Requirement already satisfied: click in /usr/local/lib/python3.7/dist-packages (from opendatasets) (7.1.2)\n",
            "Requirement already satisfied: python-dateutil in /usr/local/lib/python3.7/dist-packages (from kaggle->opendatasets) (2.8.2)\n",
            "Requirement already satisfied: certifi in /usr/local/lib/python3.7/dist-packages (from kaggle->opendatasets) (2021.10.8)\n",
            "Requirement already satisfied: python-slugify in /usr/local/lib/python3.7/dist-packages (from kaggle->opendatasets) (5.0.2)\n",
            "Requirement already satisfied: slugify in /usr/local/lib/python3.7/dist-packages (from kaggle->opendatasets) (0.0.1)\n",
            "Requirement already satisfied: requests in /usr/local/lib/python3.7/dist-packages (from kaggle->opendatasets) (2.23.0)\n",
            "Requirement already satisfied: urllib3<1.25,>=1.21.1 in /usr/local/lib/python3.7/dist-packages (from kaggle->opendatasets) (1.24.3)\n",
            "Requirement already satisfied: six>=1.10 in /usr/local/lib/python3.7/dist-packages (from kaggle->opendatasets) (1.15.0)\n",
            "Requirement already satisfied: text-unidecode>=1.3 in /usr/local/lib/python3.7/dist-packages (from python-slugify->kaggle->opendatasets) (1.3)\n",
            "Requirement already satisfied: chardet<4,>=3.0.2 in /usr/local/lib/python3.7/dist-packages (from requests->kaggle->opendatasets) (3.0.4)\n",
            "Requirement already satisfied: idna<3,>=2.5 in /usr/local/lib/python3.7/dist-packages (from requests->kaggle->opendatasets) (2.10)\n",
            "Installing collected packages: opendatasets\n",
            "Successfully installed opendatasets-0.1.20\n"
          ]
        }
      ]
    },
    {
      "cell_type": "code",
      "metadata": {
        "colab": {
          "base_uri": "https://localhost:8080/"
        },
        "id": "W1AbPJM5xY-O",
        "outputId": "02a3a950-6de8-4abb-e96d-0e4cd4242dc5"
      },
      "source": [
        "pip install tensorflow"
      ],
      "execution_count": 3,
      "outputs": [
        {
          "output_type": "stream",
          "name": "stdout",
          "text": [
            "Requirement already satisfied: tensorflow in /usr/local/lib/python3.7/dist-packages (2.7.0)\n",
            "Requirement already satisfied: numpy>=1.14.5 in /usr/local/lib/python3.7/dist-packages (from tensorflow) (1.19.5)\n",
            "Requirement already satisfied: typing-extensions>=3.6.6 in /usr/local/lib/python3.7/dist-packages (from tensorflow) (3.10.0.2)\n",
            "Requirement already satisfied: keras-preprocessing>=1.1.1 in /usr/local/lib/python3.7/dist-packages (from tensorflow) (1.1.2)\n",
            "Requirement already satisfied: opt-einsum>=2.3.2 in /usr/local/lib/python3.7/dist-packages (from tensorflow) (3.3.0)\n",
            "Requirement already satisfied: six>=1.12.0 in /usr/local/lib/python3.7/dist-packages (from tensorflow) (1.15.0)\n",
            "Requirement already satisfied: keras<2.8,>=2.7.0rc0 in /usr/local/lib/python3.7/dist-packages (from tensorflow) (2.7.0)\n",
            "Requirement already satisfied: tensorflow-io-gcs-filesystem>=0.21.0 in /usr/local/lib/python3.7/dist-packages (from tensorflow) (0.22.0)\n",
            "Requirement already satisfied: flatbuffers<3.0,>=1.12 in /usr/local/lib/python3.7/dist-packages (from tensorflow) (2.0)\n",
            "Requirement already satisfied: astunparse>=1.6.0 in /usr/local/lib/python3.7/dist-packages (from tensorflow) (1.6.3)\n",
            "Requirement already satisfied: termcolor>=1.1.0 in /usr/local/lib/python3.7/dist-packages (from tensorflow) (1.1.0)\n",
            "Requirement already satisfied: wrapt>=1.11.0 in /usr/local/lib/python3.7/dist-packages (from tensorflow) (1.13.3)\n",
            "Requirement already satisfied: libclang>=9.0.1 in /usr/local/lib/python3.7/dist-packages (from tensorflow) (12.0.0)\n",
            "Requirement already satisfied: google-pasta>=0.1.1 in /usr/local/lib/python3.7/dist-packages (from tensorflow) (0.2.0)\n",
            "Requirement already satisfied: h5py>=2.9.0 in /usr/local/lib/python3.7/dist-packages (from tensorflow) (3.1.0)\n",
            "Requirement already satisfied: tensorflow-estimator<2.8,~=2.7.0rc0 in /usr/local/lib/python3.7/dist-packages (from tensorflow) (2.7.0)\n",
            "Requirement already satisfied: grpcio<2.0,>=1.24.3 in /usr/local/lib/python3.7/dist-packages (from tensorflow) (1.42.0)\n",
            "Requirement already satisfied: wheel<1.0,>=0.32.0 in /usr/local/lib/python3.7/dist-packages (from tensorflow) (0.37.0)\n",
            "Requirement already satisfied: gast<0.5.0,>=0.2.1 in /usr/local/lib/python3.7/dist-packages (from tensorflow) (0.4.0)\n",
            "Requirement already satisfied: absl-py>=0.4.0 in /usr/local/lib/python3.7/dist-packages (from tensorflow) (0.12.0)\n",
            "Requirement already satisfied: protobuf>=3.9.2 in /usr/local/lib/python3.7/dist-packages (from tensorflow) (3.17.3)\n",
            "Requirement already satisfied: tensorboard~=2.6 in /usr/local/lib/python3.7/dist-packages (from tensorflow) (2.7.0)\n",
            "Requirement already satisfied: cached-property in /usr/local/lib/python3.7/dist-packages (from h5py>=2.9.0->tensorflow) (1.5.2)\n",
            "Requirement already satisfied: markdown>=2.6.8 in /usr/local/lib/python3.7/dist-packages (from tensorboard~=2.6->tensorflow) (3.3.6)\n",
            "Requirement already satisfied: google-auth<3,>=1.6.3 in /usr/local/lib/python3.7/dist-packages (from tensorboard~=2.6->tensorflow) (1.35.0)\n",
            "Requirement already satisfied: google-auth-oauthlib<0.5,>=0.4.1 in /usr/local/lib/python3.7/dist-packages (from tensorboard~=2.6->tensorflow) (0.4.6)\n",
            "Requirement already satisfied: werkzeug>=0.11.15 in /usr/local/lib/python3.7/dist-packages (from tensorboard~=2.6->tensorflow) (1.0.1)\n",
            "Requirement already satisfied: tensorboard-plugin-wit>=1.6.0 in /usr/local/lib/python3.7/dist-packages (from tensorboard~=2.6->tensorflow) (1.8.0)\n",
            "Requirement already satisfied: tensorboard-data-server<0.7.0,>=0.6.0 in /usr/local/lib/python3.7/dist-packages (from tensorboard~=2.6->tensorflow) (0.6.1)\n",
            "Requirement already satisfied: setuptools>=41.0.0 in /usr/local/lib/python3.7/dist-packages (from tensorboard~=2.6->tensorflow) (57.4.0)\n",
            "Requirement already satisfied: requests<3,>=2.21.0 in /usr/local/lib/python3.7/dist-packages (from tensorboard~=2.6->tensorflow) (2.23.0)\n",
            "Requirement already satisfied: cachetools<5.0,>=2.0.0 in /usr/local/lib/python3.7/dist-packages (from google-auth<3,>=1.6.3->tensorboard~=2.6->tensorflow) (4.2.4)\n",
            "Requirement already satisfied: rsa<5,>=3.1.4 in /usr/local/lib/python3.7/dist-packages (from google-auth<3,>=1.6.3->tensorboard~=2.6->tensorflow) (4.7.2)\n",
            "Requirement already satisfied: pyasn1-modules>=0.2.1 in /usr/local/lib/python3.7/dist-packages (from google-auth<3,>=1.6.3->tensorboard~=2.6->tensorflow) (0.2.8)\n",
            "Requirement already satisfied: requests-oauthlib>=0.7.0 in /usr/local/lib/python3.7/dist-packages (from google-auth-oauthlib<0.5,>=0.4.1->tensorboard~=2.6->tensorflow) (1.3.0)\n",
            "Requirement already satisfied: importlib-metadata>=4.4 in /usr/local/lib/python3.7/dist-packages (from markdown>=2.6.8->tensorboard~=2.6->tensorflow) (4.8.2)\n",
            "Requirement already satisfied: zipp>=0.5 in /usr/local/lib/python3.7/dist-packages (from importlib-metadata>=4.4->markdown>=2.6.8->tensorboard~=2.6->tensorflow) (3.6.0)\n",
            "Requirement already satisfied: pyasn1<0.5.0,>=0.4.6 in /usr/local/lib/python3.7/dist-packages (from pyasn1-modules>=0.2.1->google-auth<3,>=1.6.3->tensorboard~=2.6->tensorflow) (0.4.8)\n",
            "Requirement already satisfied: idna<3,>=2.5 in /usr/local/lib/python3.7/dist-packages (from requests<3,>=2.21.0->tensorboard~=2.6->tensorflow) (2.10)\n",
            "Requirement already satisfied: urllib3!=1.25.0,!=1.25.1,<1.26,>=1.21.1 in /usr/local/lib/python3.7/dist-packages (from requests<3,>=2.21.0->tensorboard~=2.6->tensorflow) (1.24.3)\n",
            "Requirement already satisfied: certifi>=2017.4.17 in /usr/local/lib/python3.7/dist-packages (from requests<3,>=2.21.0->tensorboard~=2.6->tensorflow) (2021.10.8)\n",
            "Requirement already satisfied: chardet<4,>=3.0.2 in /usr/local/lib/python3.7/dist-packages (from requests<3,>=2.21.0->tensorboard~=2.6->tensorflow) (3.0.4)\n",
            "Requirement already satisfied: oauthlib>=3.0.0 in /usr/local/lib/python3.7/dist-packages (from requests-oauthlib>=0.7.0->google-auth-oauthlib<0.5,>=0.4.1->tensorboard~=2.6->tensorflow) (3.1.1)\n"
          ]
        }
      ]
    },
    {
      "cell_type": "code",
      "metadata": {
        "id": "fTpmwnxb48NU"
      },
      "source": [
        "import opendatasets as od"
      ],
      "execution_count": 4,
      "outputs": []
    },
    {
      "cell_type": "code",
      "metadata": {
        "colab": {
          "base_uri": "https://localhost:8080/"
        },
        "id": "RRGlTT4F4xab",
        "outputId": "324b3cea-0ee0-44b0-b98c-c4c0ed6b5395"
      },
      "source": [
        "od.download(\"https://www.kaggle.com/c/aptos2019-blindness-detection\")"
      ],
      "execution_count": 5,
      "outputs": [
        {
          "output_type": "stream",
          "name": "stdout",
          "text": [
            "Please provide your Kaggle credentials to download this dataset. Learn more: http://bit.ly/kaggle-creds\n",
            "Your Kaggle username: ernowogordonunus\n",
            "Your Kaggle Key: ··········\n",
            "Downloading aptos2019-blindness-detection.zip to ./aptos2019-blindness-detection\n"
          ]
        },
        {
          "output_type": "stream",
          "name": "stderr",
          "text": [
            "100%|██████████| 9.51G/9.51G [03:31<00:00, 48.2MB/s]\n"
          ]
        },
        {
          "output_type": "stream",
          "name": "stdout",
          "text": [
            "\n",
            "Extracting archive ./aptos2019-blindness-detection/aptos2019-blindness-detection.zip to ./aptos2019-blindness-detection\n"
          ]
        }
      ]
    },
    {
      "cell_type": "code",
      "metadata": {
        "id": "H4bxmVznDR9c"
      },
      "source": [
        "import numpy as np\n",
        "import pandas as pd\n",
        "import os\n",
        "import matplotlib.pyplot as plt\n",
        "import random\n",
        "\n",
        "import tensorflow as tf\n",
        "from tensorflow.keras.utils import to_categorical\n",
        "from tensorflow.keras.preprocessing.image import load_img, img_to_array\n",
        "from tensorflow.python.keras.preprocessing.image import ImageDataGenerator\n",
        "\n",
        "from sklearn.metrics import classification_report, log_loss, accuracy_score\n",
        "from sklearn.model_selection import train_test_split\n",
        "from tqdm import tqdm"
      ],
      "execution_count": 6,
      "outputs": []
    },
    {
      "cell_type": "code",
      "metadata": {
        "id": "A4w6iZOr_kza"
      },
      "source": [
        "train_dir = 'aptos2019-blindness-detection/train_images'\n",
        "test_dir = 'aptos2019-blindness-detection/test_images'"
      ],
      "execution_count": 7,
      "outputs": []
    },
    {
      "cell_type": "code",
      "metadata": {
        "id": "uc6Y_ZWL9iyA"
      },
      "source": [
        "train_csv=pd.read_csv('aptos2019-blindness-detection/train.csv')\n",
        "test_csv=pd.read_csv('aptos2019-blindness-detection/test.csv')"
      ],
      "execution_count": 8,
      "outputs": []
    },
    {
      "cell_type": "code",
      "metadata": {
        "colab": {
          "base_uri": "https://localhost:8080/"
        },
        "id": "SMrIhpng9s3m",
        "outputId": "e2334926-d791-4b4f-d9df-c80bfefacf13"
      },
      "source": [
        "train=[]\n",
        "trainlabel=[]\n",
        "for im in tqdm(os.listdir(train_dir)):\n",
        "    image=load_img(os.path.join(train_dir,im), grayscale=False, color_mode='rgb', target_size=(60,60))\n",
        "    image=img_to_array(image)\n",
        "    image=image/255.0\n",
        "    train+=[image]\n",
        "    trainlabel+=[train_csv[train_csv['id_code']==im[0:-4]]['diagnosis'].iat[0]]"
      ],
      "execution_count": 9,
      "outputs": [
        {
          "output_type": "stream",
          "name": "stderr",
          "text": [
            "100%|██████████| 3662/3662 [08:08<00:00,  7.50it/s]\n"
          ]
        }
      ]
    },
    {
      "cell_type": "code",
      "metadata": {
        "colab": {
          "base_uri": "https://localhost:8080/"
        },
        "id": "vVXRYKs_9s6b",
        "outputId": "da079fca-f23d-460b-d2bf-7242d62b6851"
      },
      "source": [
        "test=[]\n",
        "for im in tqdm(os.listdir(test_dir)):\n",
        "    image=load_img(os.path.join(test_dir,im), grayscale=False, color_mode='rgb', target_size=(60,60))\n",
        "    image=img_to_array(image)\n",
        "    image=image/255.0\n",
        "    test+=[image]\n"
      ],
      "execution_count": 10,
      "outputs": [
        {
          "output_type": "stream",
          "name": "stderr",
          "text": [
            "100%|██████████| 1928/1928 [01:22<00:00, 23.31it/s]\n"
          ]
        }
      ]
    },
    {
      "cell_type": "code",
      "metadata": {
        "colab": {
          "base_uri": "https://localhost:8080/",
          "height": 825
        },
        "id": "mOQAGzhu9s9E",
        "outputId": "47847143-6c3a-424e-e36c-5df7d7d5a334"
      },
      "source": [
        "fig,axs = plt.subplots(3,3,figsize=(14,14))\n",
        "for i in range(9):\n",
        "    r=i//3\n",
        "    c=i%3\n",
        "    ax=axs[r][c].imshow(train[i])\n",
        "    ax=axs[r][c].set_title('Diagnosis: '+str(trainlabel[i]))    \n",
        "plt.show()"
      ],
      "execution_count": 11,
      "outputs": [
        {
          "output_type": "display_data",
          "data": {
            "image/png": "[encoded data removed]",
            "text/plain": [
              "<Figure size 1008x1008 with 9 Axes>"
            ]
          },
          "metadata": {
            "needs_background": "light"
          }
        }
      ]
    },
    {
      "cell_type": "code",
      "metadata": {
        "id": "i6BLcRT29s_Y"
      },
      "source": [
        "train=np.array(train)\n",
        "trainlabel=np.array(trainlabel)\n",
        "test=np.array(test)"
      ],
      "execution_count": 12,
      "outputs": []
    },
    {
      "cell_type": "code",
      "metadata": {
        "id": "ppvxZ9KJDXQ5"
      },
      "source": [
        "trainlabel2=to_categorical(trainlabel)"
      ],
      "execution_count": 13,
      "outputs": []
    },
    {
      "cell_type": "code",
      "metadata": {
        "id": "eKk43coG98LC"
      },
      "source": [
        "trainx,testx,trainy,testy=train_test_split(train,trainlabel2,test_size=0.2,random_state=44)"
      ],
      "execution_count": 14,
      "outputs": []
    },
    {
      "cell_type": "code",
      "metadata": {
        "id": "SCG5Fhlv98PK"
      },
      "source": [
        "datagen = ImageDataGenerator(horizontal_flip=True,\n",
        "                             vertical_flip=True,\n",
        "                             rotation_range=20,\n",
        "                             zoom_range=0.2,\n",
        "                             width_shift_range=0.2,\n",
        "                             height_shift_range=0.2,\n",
        "                             shear_range=0.1,\n",
        "                             fill_mode=\"nearest\")"
      ],
      "execution_count": 15,
      "outputs": []
    },
    {
      "cell_type": "code",
      "metadata": {
        "id": "Ou47NV4I98Uw"
      },
      "source": [
        "from tensorflow.keras.layers import BatchNormalization\n",
        "# TULIS KODE ANDA DISINI\n",
        "model = tf.keras.models.Sequential([\n",
        "    # Konvulasi Pertama\n",
        "    tf.keras.layers.Conv2D(64, (3,3), activation='relu'),\n",
        "    tf.keras.layers.BatchNormalization(),\n",
        "    tf.keras.layers.MaxPooling2D(2, 2),\n",
        "    # Konvulasi Kedua\n",
        "    tf.keras.layers.Conv2D(64, (3,3), activation='relu'),\n",
        "    tf.keras.layers.BatchNormalization(),\n",
        "    tf.keras.layers.MaxPooling2D(2,2),\n",
        "    # Jadikan hasil yang sudah diperoleh dalam sebuah DNN\n",
        "    tf.keras.layers.Flatten(),\n",
        "    tf.keras.layers.Dropout(0.5),\n",
        "    # Hidden Layer\n",
        "    tf.keras.layers.Dense(512, activation='relu'),\n",
        "    tf.keras.layers.BatchNormalization(),\n",
        "    tf.keras.layers.Dense(5, activation='softmax')\n",
        "])\n",
        "\n"
      ],
      "execution_count": 16,
      "outputs": []
    },
    {
      "cell_type": "code",
      "metadata": {
        "id": "pkbLa4QX98iO"
      },
      "source": [
        "model.compile(optimizer='adam',loss='categorical_crossentropy',metrics=['accuracy'])"
      ],
      "execution_count": 17,
      "outputs": []
    },
    {
      "cell_type": "code",
      "metadata": {
        "colab": {
          "base_uri": "https://localhost:8080/"
        },
        "id": "Ez6hEdnd98ou",
        "outputId": "887148cf-d210-440d-a028-9a4c32bf13e9"
      },
      "source": [
        "print(trainx.shape)\n",
        "print(trainy.shape)"
      ],
      "execution_count": 18,
      "outputs": [
        {
          "output_type": "stream",
          "name": "stdout",
          "text": [
            "(2929, 60, 60, 3)\n",
            "(2929, 5)\n"
          ]
        }
      ]
    },
    {
      "cell_type": "code",
      "metadata": {
        "colab": {
          "base_uri": "https://localhost:8080/"
        },
        "id": "dnUmPwuw97p_",
        "outputId": "5d5d33a2-87aa-4c74-f96e-78aaac2ef883"
      },
      "source": [
        "print(testx.shape)\n",
        "print(testy.shape)"
      ],
      "execution_count": 19,
      "outputs": [
        {
          "output_type": "stream",
          "name": "stdout",
          "text": [
            "(733, 60, 60, 3)\n",
            "(733, 5)\n"
          ]
        }
      ]
    },
    {
      "cell_type": "code",
      "metadata": {
        "colab": {
          "base_uri": "https://localhost:8080/"
        },
        "id": "qCvGh0Mc97sr",
        "outputId": "7405c9ac-d22e-4361-a5ea-8f8625cae746"
      },
      "source": [
        "his=model.fit(datagen.flow(trainx,trainy,batch_size=32),validation_data=(testx,testy),epochs=100)"
      ],
      "execution_count": 20,
      "outputs": [
        {
          "output_type": "stream",
          "name": "stdout",
          "text": [
            "Epoch 1/100\n",
            "92/92 [==============================] - 38s 400ms/step - loss: 1.5530 - accuracy: 0.5227 - val_loss: 2.5377 - val_accuracy: 0.2565\n",
            "Epoch 2/100\n",
            "92/92 [==============================] - 37s 399ms/step - loss: 1.0433 - accuracy: 0.6227 - val_loss: 2.1617 - val_accuracy: 0.2578\n",
            "Epoch 3/100\n",
            "92/92 [==============================] - 37s 397ms/step - loss: 0.9576 - accuracy: 0.6586 - val_loss: 2.2145 - val_accuracy: 0.2565\n",
            "Epoch 4/100\n",
            "92/92 [==============================] - 37s 399ms/step - loss: 0.9384 - accuracy: 0.6651 - val_loss: 1.4800 - val_accuracy: 0.3124\n",
            "Epoch 5/100\n",
            "92/92 [==============================] - 37s 398ms/step - loss: 0.9134 - accuracy: 0.6767 - val_loss: 1.3626 - val_accuracy: 0.4270\n",
            "Epoch 6/100\n",
            "92/92 [==============================] - 36s 396ms/step - loss: 0.9138 - accuracy: 0.6685 - val_loss: 0.8385 - val_accuracy: 0.7067\n",
            "Epoch 7/100\n",
            "92/92 [==============================] - 36s 396ms/step - loss: 0.8824 - accuracy: 0.6729 - val_loss: 0.7816 - val_accuracy: 0.7108\n",
            "Epoch 8/100\n",
            "92/92 [==============================] - 36s 395ms/step - loss: 0.8810 - accuracy: 0.6849 - val_loss: 0.8690 - val_accuracy: 0.6903\n",
            "Epoch 9/100\n",
            "92/92 [==============================] - 36s 396ms/step - loss: 0.8612 - accuracy: 0.6972 - val_loss: 0.7292 - val_accuracy: 0.7203\n",
            "Epoch 10/100\n",
            "92/92 [==============================] - 36s 395ms/step - loss: 0.8729 - accuracy: 0.6917 - val_loss: 0.9493 - val_accuracy: 0.6398\n",
            "Epoch 11/100\n",
            "92/92 [==============================] - 41s 450ms/step - loss: 0.8720 - accuracy: 0.6815 - val_loss: 0.9578 - val_accuracy: 0.6289\n",
            "Epoch 12/100\n",
            "92/92 [==============================] - 36s 394ms/step - loss: 0.8458 - accuracy: 0.6897 - val_loss: 0.7294 - val_accuracy: 0.7490\n",
            "Epoch 13/100\n",
            "92/92 [==============================] - 36s 395ms/step - loss: 0.8392 - accuracy: 0.7013 - val_loss: 0.7903 - val_accuracy: 0.7271\n",
            "Epoch 14/100\n",
            "92/92 [==============================] - 36s 394ms/step - loss: 0.8289 - accuracy: 0.6965 - val_loss: 0.7576 - val_accuracy: 0.7203\n",
            "Epoch 15/100\n",
            "92/92 [==============================] - 36s 393ms/step - loss: 0.8316 - accuracy: 0.7033 - val_loss: 1.1249 - val_accuracy: 0.5648\n",
            "Epoch 16/100\n",
            "92/92 [==============================] - 36s 393ms/step - loss: 0.8303 - accuracy: 0.6958 - val_loss: 0.7547 - val_accuracy: 0.7217\n",
            "Epoch 17/100\n",
            "92/92 [==============================] - 36s 393ms/step - loss: 0.8315 - accuracy: 0.6972 - val_loss: 0.7956 - val_accuracy: 0.7435\n",
            "Epoch 18/100\n",
            "92/92 [==============================] - 36s 395ms/step - loss: 0.8254 - accuracy: 0.7023 - val_loss: 0.7196 - val_accuracy: 0.7435\n",
            "Epoch 19/100\n",
            "92/92 [==============================] - 36s 393ms/step - loss: 0.8165 - accuracy: 0.7002 - val_loss: 0.7408 - val_accuracy: 0.7312\n",
            "Epoch 20/100\n",
            "92/92 [==============================] - 36s 393ms/step - loss: 0.8182 - accuracy: 0.7016 - val_loss: 0.9468 - val_accuracy: 0.6685\n",
            "Epoch 21/100\n",
            "92/92 [==============================] - 36s 393ms/step - loss: 0.8125 - accuracy: 0.6972 - val_loss: 0.8658 - val_accuracy: 0.6889\n",
            "Epoch 22/100\n",
            "92/92 [==============================] - 36s 394ms/step - loss: 0.8048 - accuracy: 0.7074 - val_loss: 0.8646 - val_accuracy: 0.7135\n",
            "Epoch 23/100\n",
            "92/92 [==============================] - 36s 394ms/step - loss: 0.8098 - accuracy: 0.7081 - val_loss: 0.9410 - val_accuracy: 0.6617\n",
            "Epoch 24/100\n",
            "92/92 [==============================] - 36s 393ms/step - loss: 0.7980 - accuracy: 0.7088 - val_loss: 0.8543 - val_accuracy: 0.7040\n",
            "Epoch 25/100\n",
            "92/92 [==============================] - 36s 394ms/step - loss: 0.8049 - accuracy: 0.7064 - val_loss: 1.2017 - val_accuracy: 0.5375\n",
            "Epoch 26/100\n",
            "92/92 [==============================] - 49s 530ms/step - loss: 0.8028 - accuracy: 0.7057 - val_loss: 0.7063 - val_accuracy: 0.7476\n",
            "Epoch 27/100\n",
            "92/92 [==============================] - 36s 396ms/step - loss: 0.7918 - accuracy: 0.7173 - val_loss: 0.7393 - val_accuracy: 0.7394\n",
            "Epoch 28/100\n",
            "92/92 [==============================] - 36s 396ms/step - loss: 0.7827 - accuracy: 0.7159 - val_loss: 1.2673 - val_accuracy: 0.6003\n",
            "Epoch 29/100\n",
            "92/92 [==============================] - 36s 395ms/step - loss: 0.7997 - accuracy: 0.7060 - val_loss: 0.6841 - val_accuracy: 0.7544\n",
            "Epoch 30/100\n",
            "92/92 [==============================] - 36s 394ms/step - loss: 0.7870 - accuracy: 0.7074 - val_loss: 0.7228 - val_accuracy: 0.7572\n",
            "Epoch 31/100\n",
            "92/92 [==============================] - 36s 394ms/step - loss: 0.7933 - accuracy: 0.7088 - val_loss: 0.6833 - val_accuracy: 0.7531\n",
            "Epoch 32/100\n",
            "92/92 [==============================] - 36s 394ms/step - loss: 0.7961 - accuracy: 0.7177 - val_loss: 0.7272 - val_accuracy: 0.7517\n",
            "Epoch 33/100\n",
            "92/92 [==============================] - 36s 395ms/step - loss: 0.7968 - accuracy: 0.7132 - val_loss: 0.9985 - val_accuracy: 0.6221\n",
            "Epoch 34/100\n",
            "92/92 [==============================] - 36s 396ms/step - loss: 0.7948 - accuracy: 0.7098 - val_loss: 0.6749 - val_accuracy: 0.7653\n",
            "Epoch 35/100\n",
            "92/92 [==============================] - 37s 397ms/step - loss: 0.7783 - accuracy: 0.7118 - val_loss: 1.3708 - val_accuracy: 0.5675\n",
            "Epoch 36/100\n",
            "92/92 [==============================] - 37s 397ms/step - loss: 0.7802 - accuracy: 0.7197 - val_loss: 0.7578 - val_accuracy: 0.7408\n",
            "Epoch 37/100\n",
            "92/92 [==============================] - 36s 396ms/step - loss: 0.7860 - accuracy: 0.7166 - val_loss: 0.8472 - val_accuracy: 0.7203\n",
            "Epoch 38/100\n",
            "92/92 [==============================] - 36s 395ms/step - loss: 0.7643 - accuracy: 0.7228 - val_loss: 0.6900 - val_accuracy: 0.7490\n",
            "Epoch 39/100\n",
            "92/92 [==============================] - 36s 394ms/step - loss: 0.7743 - accuracy: 0.7173 - val_loss: 0.7023 - val_accuracy: 0.7572\n",
            "Epoch 40/100\n",
            "92/92 [==============================] - 37s 399ms/step - loss: 0.7718 - accuracy: 0.7221 - val_loss: 0.7545 - val_accuracy: 0.7340\n",
            "Epoch 41/100\n",
            "92/92 [==============================] - 39s 424ms/step - loss: 0.7677 - accuracy: 0.7214 - val_loss: 1.1864 - val_accuracy: 0.5975\n",
            "Epoch 42/100\n",
            "92/92 [==============================] - 36s 395ms/step - loss: 0.7599 - accuracy: 0.7238 - val_loss: 0.6708 - val_accuracy: 0.7640\n",
            "Epoch 43/100\n",
            "92/92 [==============================] - 36s 395ms/step - loss: 0.7341 - accuracy: 0.7262 - val_loss: 0.8689 - val_accuracy: 0.6985\n",
            "Epoch 44/100\n",
            "92/92 [==============================] - 36s 395ms/step - loss: 0.7347 - accuracy: 0.7265 - val_loss: 0.6845 - val_accuracy: 0.7435\n",
            "Epoch 45/100\n",
            "92/92 [==============================] - 36s 392ms/step - loss: 0.7392 - accuracy: 0.7272 - val_loss: 1.1972 - val_accuracy: 0.5498\n",
            "Epoch 46/100\n",
            "92/92 [==============================] - 36s 394ms/step - loss: 0.7476 - accuracy: 0.7217 - val_loss: 0.6796 - val_accuracy: 0.7531\n",
            "Epoch 47/100\n",
            "92/92 [==============================] - 36s 395ms/step - loss: 0.7311 - accuracy: 0.7276 - val_loss: 0.7872 - val_accuracy: 0.7121\n",
            "Epoch 48/100\n",
            "92/92 [==============================] - 36s 394ms/step - loss: 0.7338 - accuracy: 0.7296 - val_loss: 0.8193 - val_accuracy: 0.7231\n",
            "Epoch 49/100\n",
            "92/92 [==============================] - 37s 404ms/step - loss: 0.7476 - accuracy: 0.7269 - val_loss: 0.7751 - val_accuracy: 0.7258\n",
            "Epoch 50/100\n",
            "92/92 [==============================] - 36s 395ms/step - loss: 0.7447 - accuracy: 0.7217 - val_loss: 1.0059 - val_accuracy: 0.7108\n",
            "Epoch 51/100\n",
            "92/92 [==============================] - 36s 395ms/step - loss: 0.7563 - accuracy: 0.7238 - val_loss: 0.6939 - val_accuracy: 0.7735\n",
            "Epoch 52/100\n",
            "92/92 [==============================] - 36s 395ms/step - loss: 0.7373 - accuracy: 0.7364 - val_loss: 0.7466 - val_accuracy: 0.7299\n",
            "Epoch 53/100\n",
            "92/92 [==============================] - 36s 396ms/step - loss: 0.7093 - accuracy: 0.7299 - val_loss: 0.7114 - val_accuracy: 0.7285\n",
            "Epoch 54/100\n",
            "92/92 [==============================] - 36s 394ms/step - loss: 0.7247 - accuracy: 0.7337 - val_loss: 0.6598 - val_accuracy: 0.7817\n",
            "Epoch 55/100\n",
            "92/92 [==============================] - 36s 395ms/step - loss: 0.7231 - accuracy: 0.7252 - val_loss: 0.7944 - val_accuracy: 0.7108\n",
            "Epoch 56/100\n",
            "92/92 [==============================] - 36s 397ms/step - loss: 0.7245 - accuracy: 0.7289 - val_loss: 0.6546 - val_accuracy: 0.7667\n",
            "Epoch 57/100\n",
            "92/92 [==============================] - 36s 395ms/step - loss: 0.7132 - accuracy: 0.7402 - val_loss: 0.6773 - val_accuracy: 0.7708\n",
            "Epoch 58/100\n",
            "92/92 [==============================] - 36s 395ms/step - loss: 0.6974 - accuracy: 0.7412 - val_loss: 0.7017 - val_accuracy: 0.7476\n",
            "Epoch 59/100\n",
            "92/92 [==============================] - 37s 397ms/step - loss: 0.7023 - accuracy: 0.7381 - val_loss: 0.7062 - val_accuracy: 0.7517\n",
            "Epoch 60/100\n",
            "92/92 [==============================] - 36s 395ms/step - loss: 0.7077 - accuracy: 0.7392 - val_loss: 0.6673 - val_accuracy: 0.7558\n",
            "Epoch 61/100\n",
            "92/92 [==============================] - 36s 395ms/step - loss: 0.7000 - accuracy: 0.7371 - val_loss: 0.6705 - val_accuracy: 0.7626\n",
            "Epoch 62/100\n",
            "92/92 [==============================] - 36s 394ms/step - loss: 0.6970 - accuracy: 0.7463 - val_loss: 0.7433 - val_accuracy: 0.7585\n",
            "Epoch 63/100\n",
            "92/92 [==============================] - 36s 395ms/step - loss: 0.6859 - accuracy: 0.7416 - val_loss: 0.6336 - val_accuracy: 0.7694\n",
            "Epoch 64/100\n",
            "92/92 [==============================] - 36s 394ms/step - loss: 0.6990 - accuracy: 0.7412 - val_loss: 0.8404 - val_accuracy: 0.7094\n",
            "Epoch 65/100\n",
            "92/92 [==============================] - 37s 397ms/step - loss: 0.6951 - accuracy: 0.7368 - val_loss: 0.7304 - val_accuracy: 0.7312\n",
            "Epoch 66/100\n",
            "92/92 [==============================] - 36s 395ms/step - loss: 0.6890 - accuracy: 0.7405 - val_loss: 0.6628 - val_accuracy: 0.7558\n",
            "Epoch 67/100\n",
            "92/92 [==============================] - 36s 395ms/step - loss: 0.7030 - accuracy: 0.7344 - val_loss: 0.6237 - val_accuracy: 0.7640\n",
            "Epoch 68/100\n",
            "92/92 [==============================] - 36s 395ms/step - loss: 0.6869 - accuracy: 0.7416 - val_loss: 0.7422 - val_accuracy: 0.7271\n",
            "Epoch 69/100\n",
            "92/92 [==============================] - 36s 394ms/step - loss: 0.6952 - accuracy: 0.7460 - val_loss: 0.6601 - val_accuracy: 0.7667\n",
            "Epoch 70/100\n",
            "92/92 [==============================] - 36s 396ms/step - loss: 0.6904 - accuracy: 0.7450 - val_loss: 0.8006 - val_accuracy: 0.7231\n",
            "Epoch 71/100\n",
            "92/92 [==============================] - 37s 398ms/step - loss: 0.6739 - accuracy: 0.7426 - val_loss: 0.6633 - val_accuracy: 0.7708\n",
            "Epoch 72/100\n",
            "92/92 [==============================] - 37s 397ms/step - loss: 0.6716 - accuracy: 0.7446 - val_loss: 0.6104 - val_accuracy: 0.7694\n",
            "Epoch 73/100\n",
            "92/92 [==============================] - 36s 393ms/step - loss: 0.6663 - accuracy: 0.7535 - val_loss: 0.6402 - val_accuracy: 0.7776\n",
            "Epoch 74/100\n",
            "92/92 [==============================] - 36s 395ms/step - loss: 0.6734 - accuracy: 0.7443 - val_loss: 0.7507 - val_accuracy: 0.7231\n",
            "Epoch 75/100\n",
            "92/92 [==============================] - 36s 395ms/step - loss: 0.6741 - accuracy: 0.7422 - val_loss: 1.0926 - val_accuracy: 0.5894\n",
            "Epoch 76/100\n",
            "92/92 [==============================] - 36s 394ms/step - loss: 0.6736 - accuracy: 0.7501 - val_loss: 0.6644 - val_accuracy: 0.7599\n",
            "Epoch 77/100\n",
            "92/92 [==============================] - 37s 397ms/step - loss: 0.6756 - accuracy: 0.7508 - val_loss: 0.6631 - val_accuracy: 0.7735\n",
            "Epoch 78/100\n",
            "92/92 [==============================] - 36s 394ms/step - loss: 0.6636 - accuracy: 0.7460 - val_loss: 0.6886 - val_accuracy: 0.7790\n",
            "Epoch 79/100\n",
            "92/92 [==============================] - 36s 395ms/step - loss: 0.6731 - accuracy: 0.7463 - val_loss: 0.6230 - val_accuracy: 0.7749\n",
            "Epoch 80/100\n",
            "92/92 [==============================] - 36s 395ms/step - loss: 0.6741 - accuracy: 0.7416 - val_loss: 0.6518 - val_accuracy: 0.7572\n",
            "Epoch 81/100\n",
            "92/92 [==============================] - 36s 395ms/step - loss: 0.6521 - accuracy: 0.7562 - val_loss: 0.7195 - val_accuracy: 0.7285\n",
            "Epoch 82/100\n",
            "92/92 [==============================] - 36s 393ms/step - loss: 0.6883 - accuracy: 0.7436 - val_loss: 0.7747 - val_accuracy: 0.7094\n",
            "Epoch 83/100\n",
            "92/92 [==============================] - 36s 396ms/step - loss: 0.6505 - accuracy: 0.7525 - val_loss: 0.6658 - val_accuracy: 0.7653\n",
            "Epoch 84/100\n",
            "92/92 [==============================] - 36s 395ms/step - loss: 0.6967 - accuracy: 0.7361 - val_loss: 0.6890 - val_accuracy: 0.7558\n",
            "Epoch 85/100\n",
            "92/92 [==============================] - 36s 396ms/step - loss: 0.6605 - accuracy: 0.7552 - val_loss: 0.6504 - val_accuracy: 0.7694\n",
            "Epoch 86/100\n",
            "92/92 [==============================] - 36s 396ms/step - loss: 0.6628 - accuracy: 0.7525 - val_loss: 0.6746 - val_accuracy: 0.7585\n",
            "Epoch 87/100\n",
            "92/92 [==============================] - 36s 396ms/step - loss: 0.6606 - accuracy: 0.7463 - val_loss: 0.6096 - val_accuracy: 0.7804\n",
            "Epoch 88/100\n",
            "92/92 [==============================] - 37s 398ms/step - loss: 0.6575 - accuracy: 0.7402 - val_loss: 0.6738 - val_accuracy: 0.7585\n",
            "Epoch 89/100\n",
            "92/92 [==============================] - 37s 397ms/step - loss: 0.6574 - accuracy: 0.7583 - val_loss: 0.6289 - val_accuracy: 0.7640\n",
            "Epoch 90/100\n",
            "92/92 [==============================] - 37s 397ms/step - loss: 0.6714 - accuracy: 0.7463 - val_loss: 0.6367 - val_accuracy: 0.7722\n",
            "Epoch 91/100\n",
            "92/92 [==============================] - 36s 397ms/step - loss: 0.6529 - accuracy: 0.7511 - val_loss: 0.5975 - val_accuracy: 0.7913\n",
            "Epoch 92/100\n",
            "92/92 [==============================] - 37s 397ms/step - loss: 0.6550 - accuracy: 0.7549 - val_loss: 0.6241 - val_accuracy: 0.7694\n",
            "Epoch 93/100\n",
            "92/92 [==============================] - 36s 396ms/step - loss: 0.6527 - accuracy: 0.7545 - val_loss: 0.6315 - val_accuracy: 0.7817\n",
            "Epoch 94/100\n",
            "92/92 [==============================] - 36s 395ms/step - loss: 0.6460 - accuracy: 0.7542 - val_loss: 0.8507 - val_accuracy: 0.7108\n",
            "Epoch 95/100\n",
            "92/92 [==============================] - 37s 404ms/step - loss: 0.6452 - accuracy: 0.7511 - val_loss: 0.6285 - val_accuracy: 0.7804\n",
            "Epoch 96/100\n",
            "92/92 [==============================] - 36s 396ms/step - loss: 0.6618 - accuracy: 0.7614 - val_loss: 0.6868 - val_accuracy: 0.7585\n",
            "Epoch 97/100\n",
            "92/92 [==============================] - 36s 396ms/step - loss: 0.6385 - accuracy: 0.7538 - val_loss: 0.7314 - val_accuracy: 0.7435\n",
            "Epoch 98/100\n",
            "92/92 [==============================] - 36s 396ms/step - loss: 0.6323 - accuracy: 0.7538 - val_loss: 0.6954 - val_accuracy: 0.7599\n",
            "Epoch 99/100\n",
            "92/92 [==============================] - 36s 396ms/step - loss: 0.6584 - accuracy: 0.7555 - val_loss: 0.6017 - val_accuracy: 0.7940\n",
            "Epoch 100/100\n",
            "92/92 [==============================] - 36s 396ms/step - loss: 0.6217 - accuracy: 0.7603 - val_loss: 1.1490 - val_accuracy: 0.5975\n"
          ]
        }
      ]
    },
    {
      "cell_type": "code",
      "metadata": {
        "id": "CA_EbVrODXUs"
      },
      "source": [
        "from keras.models import save_model\n",
        "model.save('model/Moduul3/model3.1.h5')"
      ],
      "execution_count": 21,
      "outputs": []
    },
    {
      "cell_type": "code",
      "metadata": {
        "id": "l2KBiTOqa68F"
      },
      "source": [
        "from tensorflow.keras.layers import BatchNormalization\n",
        "# TULIS KODE ANDA DISINI\n",
        "model2 = tf.keras.models.Sequential([\n",
        "    # Konvulasi Pertama\n",
        "    tf.keras.layers.Conv2D(64, (3,3), activation='relu'),\n",
        "    tf.keras.layers.BatchNormalization(),\n",
        "    tf.keras.layers.MaxPooling2D(2, 2),\n",
        "    # Konvulasi Kedua\n",
        "    tf.keras.layers.Conv2D(64, (3,3), activation='relu'),\n",
        "    tf.keras.layers.BatchNormalization(),\n",
        "    tf.keras.layers.MaxPooling2D(2,2),\n",
        "    # Konvulasi Ketiga\n",
        "    tf.keras.layers.Conv2D(128, (3,3), activation='relu'),\n",
        "    tf.keras.layers.BatchNormalization(),\n",
        "    tf.keras.layers.MaxPooling2D(2,2),\n",
        "    # Konvulasi Keempat\n",
        "    tf.keras.layers.Conv2D(128, (3,3), activation='relu'),\n",
        "    tf.keras.layers.BatchNormalization(),\n",
        "    tf.keras.layers.MaxPooling2D(2,2),\n",
        "    # Jadikan hasil yang sudah diperoleh dalam sebuah DNN\n",
        "    tf.keras.layers.Flatten(),\n",
        "    tf.keras.layers.Dropout(0.5),\n",
        "    # Hidden Layer\n",
        "    tf.keras.layers.Dense(512, activation='relu'),\n",
        "    tf.keras.layers.BatchNormalization(),\n",
        "    tf.keras.layers.Dense(5, activation='softmax')\n",
        "])\n",
        "\n",
        "\n"
      ],
      "execution_count": 22,
      "outputs": []
    },
    {
      "cell_type": "code",
      "metadata": {
        "id": "ss982cqCa8mi"
      },
      "source": [
        "from tensorflow.keras.optimizers import Adam\n",
        "model2.compile(optimizer=Adam(learning_rate=0.001),loss='categorical_crossentropy',metrics=['accuracy'])"
      ],
      "execution_count": 23,
      "outputs": []
    },
    {
      "cell_type": "code",
      "metadata": {
        "id": "bSm039ZEddLO",
        "colab": {
          "base_uri": "https://localhost:8080/"
        },
        "outputId": "5be3c87c-3c89-49b7-8afe-b4b4d7d2d689"
      },
      "source": [
        "his2=model2.fit(datagen.flow(trainx,trainy,batch_size=32),validation_data=(testx,testy),epochs=100)"
      ],
      "execution_count": 24,
      "outputs": [
        {
          "output_type": "stream",
          "name": "stdout",
          "text": [
            "Epoch 1/100\n",
            "92/92 [==============================] - 39s 413ms/step - loss: 1.5000 - accuracy: 0.4561 - val_loss: 1.8921 - val_accuracy: 0.2565\n",
            "Epoch 2/100\n",
            "92/92 [==============================] - 38s 412ms/step - loss: 1.1842 - accuracy: 0.5726 - val_loss: 2.5924 - val_accuracy: 0.1623\n",
            "Epoch 3/100\n",
            "92/92 [==============================] - 38s 410ms/step - loss: 1.0503 - accuracy: 0.6193 - val_loss: 2.4773 - val_accuracy: 0.2565\n",
            "Epoch 4/100\n",
            "92/92 [==============================] - 38s 410ms/step - loss: 1.0187 - accuracy: 0.6309 - val_loss: 1.7221 - val_accuracy: 0.3465\n",
            "Epoch 5/100\n",
            "92/92 [==============================] - 38s 411ms/step - loss: 0.9577 - accuracy: 0.6569 - val_loss: 1.6677 - val_accuracy: 0.3383\n",
            "Epoch 6/100\n",
            "92/92 [==============================] - 37s 407ms/step - loss: 0.9731 - accuracy: 0.6470 - val_loss: 0.9949 - val_accuracy: 0.6494\n",
            "Epoch 7/100\n",
            "92/92 [==============================] - 37s 407ms/step - loss: 0.9434 - accuracy: 0.6582 - val_loss: 0.8006 - val_accuracy: 0.7231\n",
            "Epoch 8/100\n",
            "92/92 [==============================] - 37s 407ms/step - loss: 0.9261 - accuracy: 0.6695 - val_loss: 0.7813 - val_accuracy: 0.7190\n",
            "Epoch 9/100\n",
            "92/92 [==============================] - 37s 407ms/step - loss: 0.8767 - accuracy: 0.6842 - val_loss: 0.9517 - val_accuracy: 0.6644\n",
            "Epoch 10/100\n",
            "92/92 [==============================] - 38s 408ms/step - loss: 0.8967 - accuracy: 0.6791 - val_loss: 0.7206 - val_accuracy: 0.7394\n",
            "Epoch 11/100\n",
            "92/92 [==============================] - 38s 414ms/step - loss: 0.8831 - accuracy: 0.6917 - val_loss: 0.7673 - val_accuracy: 0.7258\n",
            "Epoch 12/100\n",
            "92/92 [==============================] - 37s 407ms/step - loss: 0.8650 - accuracy: 0.6808 - val_loss: 0.7732 - val_accuracy: 0.7367\n",
            "Epoch 13/100\n",
            "92/92 [==============================] - 37s 407ms/step - loss: 0.8593 - accuracy: 0.6866 - val_loss: 0.7792 - val_accuracy: 0.6971\n",
            "Epoch 14/100\n",
            "92/92 [==============================] - 38s 408ms/step - loss: 0.8588 - accuracy: 0.6801 - val_loss: 0.7319 - val_accuracy: 0.7435\n",
            "Epoch 15/100\n",
            "92/92 [==============================] - 38s 408ms/step - loss: 0.8386 - accuracy: 0.6927 - val_loss: 0.8084 - val_accuracy: 0.7353\n",
            "Epoch 16/100\n",
            "92/92 [==============================] - 37s 407ms/step - loss: 0.8516 - accuracy: 0.6897 - val_loss: 0.7350 - val_accuracy: 0.7490\n",
            "Epoch 17/100\n",
            "92/92 [==============================] - 38s 408ms/step - loss: 0.8357 - accuracy: 0.6931 - val_loss: 0.7493 - val_accuracy: 0.7271\n",
            "Epoch 18/100\n",
            "92/92 [==============================] - 38s 410ms/step - loss: 0.8251 - accuracy: 0.6982 - val_loss: 0.7706 - val_accuracy: 0.7353\n",
            "Epoch 19/100\n",
            "92/92 [==============================] - 38s 411ms/step - loss: 0.8375 - accuracy: 0.6903 - val_loss: 0.8085 - val_accuracy: 0.7299\n",
            "Epoch 20/100\n",
            "92/92 [==============================] - 38s 408ms/step - loss: 0.8400 - accuracy: 0.6931 - val_loss: 0.8966 - val_accuracy: 0.7067\n",
            "Epoch 21/100\n",
            "92/92 [==============================] - 37s 406ms/step - loss: 0.8205 - accuracy: 0.6978 - val_loss: 0.7264 - val_accuracy: 0.7476\n",
            "Epoch 22/100\n",
            "92/92 [==============================] - 38s 408ms/step - loss: 0.8121 - accuracy: 0.7013 - val_loss: 0.7258 - val_accuracy: 0.7340\n",
            "Epoch 23/100\n",
            "92/92 [==============================] - 38s 410ms/step - loss: 0.8046 - accuracy: 0.7009 - val_loss: 0.7155 - val_accuracy: 0.7340\n",
            "Epoch 24/100\n",
            "92/92 [==============================] - 38s 411ms/step - loss: 0.8129 - accuracy: 0.7129 - val_loss: 0.7769 - val_accuracy: 0.6999\n",
            "Epoch 25/100\n",
            "92/92 [==============================] - 38s 410ms/step - loss: 0.8036 - accuracy: 0.7071 - val_loss: 0.6986 - val_accuracy: 0.7599\n",
            "Epoch 26/100\n",
            "92/92 [==============================] - 37s 406ms/step - loss: 0.8227 - accuracy: 0.7002 - val_loss: 0.7515 - val_accuracy: 0.7353\n",
            "Epoch 27/100\n",
            "92/92 [==============================] - 37s 406ms/step - loss: 0.8121 - accuracy: 0.7047 - val_loss: 0.8665 - val_accuracy: 0.7135\n",
            "Epoch 28/100\n",
            "92/92 [==============================] - 37s 405ms/step - loss: 0.8006 - accuracy: 0.7101 - val_loss: 0.8154 - val_accuracy: 0.7353\n",
            "Epoch 29/100\n",
            "92/92 [==============================] - 37s 406ms/step - loss: 0.8086 - accuracy: 0.7023 - val_loss: 0.7587 - val_accuracy: 0.7367\n",
            "Epoch 30/100\n",
            "92/92 [==============================] - 37s 407ms/step - loss: 0.8055 - accuracy: 0.7040 - val_loss: 0.7346 - val_accuracy: 0.7312\n",
            "Epoch 31/100\n",
            "92/92 [==============================] - 38s 408ms/step - loss: 0.7917 - accuracy: 0.7115 - val_loss: 0.6892 - val_accuracy: 0.7585\n",
            "Epoch 32/100\n",
            "92/92 [==============================] - 38s 410ms/step - loss: 0.7717 - accuracy: 0.7129 - val_loss: 0.7164 - val_accuracy: 0.7490\n",
            "Epoch 33/100\n",
            "92/92 [==============================] - 38s 410ms/step - loss: 0.7727 - accuracy: 0.7139 - val_loss: 0.7388 - val_accuracy: 0.7190\n",
            "Epoch 34/100\n",
            "92/92 [==============================] - 38s 409ms/step - loss: 0.7689 - accuracy: 0.7170 - val_loss: 0.7103 - val_accuracy: 0.7531\n",
            "Epoch 35/100\n",
            "92/92 [==============================] - 38s 411ms/step - loss: 0.7725 - accuracy: 0.7084 - val_loss: 0.7887 - val_accuracy: 0.7367\n",
            "Epoch 36/100\n",
            "92/92 [==============================] - 38s 409ms/step - loss: 0.7826 - accuracy: 0.7060 - val_loss: 0.8292 - val_accuracy: 0.7067\n",
            "Epoch 37/100\n",
            "92/92 [==============================] - 38s 409ms/step - loss: 0.7646 - accuracy: 0.7146 - val_loss: 0.6673 - val_accuracy: 0.7572\n",
            "Epoch 38/100\n",
            "92/92 [==============================] - 38s 409ms/step - loss: 0.7744 - accuracy: 0.7122 - val_loss: 0.7290 - val_accuracy: 0.7503\n",
            "Epoch 39/100\n",
            "92/92 [==============================] - 38s 409ms/step - loss: 0.7660 - accuracy: 0.7163 - val_loss: 0.7167 - val_accuracy: 0.7462\n",
            "Epoch 40/100\n",
            "92/92 [==============================] - 38s 408ms/step - loss: 0.7556 - accuracy: 0.7187 - val_loss: 0.7400 - val_accuracy: 0.7449\n",
            "Epoch 41/100\n",
            "92/92 [==============================] - 38s 411ms/step - loss: 0.7581 - accuracy: 0.7197 - val_loss: 0.6785 - val_accuracy: 0.7544\n",
            "Epoch 42/100\n",
            "92/92 [==============================] - 38s 408ms/step - loss: 0.7683 - accuracy: 0.7163 - val_loss: 0.6900 - val_accuracy: 0.7558\n",
            "Epoch 43/100\n",
            "92/92 [==============================] - 38s 409ms/step - loss: 0.7540 - accuracy: 0.7163 - val_loss: 0.7206 - val_accuracy: 0.7244\n",
            "Epoch 44/100\n",
            "92/92 [==============================] - 38s 409ms/step - loss: 0.7521 - accuracy: 0.7183 - val_loss: 0.6984 - val_accuracy: 0.7517\n",
            "Epoch 45/100\n",
            "92/92 [==============================] - 37s 407ms/step - loss: 0.7509 - accuracy: 0.7190 - val_loss: 0.6653 - val_accuracy: 0.7722\n",
            "Epoch 46/100\n",
            "92/92 [==============================] - 38s 409ms/step - loss: 0.7384 - accuracy: 0.7252 - val_loss: 0.7367 - val_accuracy: 0.7435\n",
            "Epoch 47/100\n",
            "92/92 [==============================] - 38s 408ms/step - loss: 0.7463 - accuracy: 0.7221 - val_loss: 0.6982 - val_accuracy: 0.7517\n",
            "Epoch 48/100\n",
            "92/92 [==============================] - 38s 408ms/step - loss: 0.7398 - accuracy: 0.7231 - val_loss: 0.6805 - val_accuracy: 0.7572\n",
            "Epoch 49/100\n",
            "92/92 [==============================] - 38s 409ms/step - loss: 0.7558 - accuracy: 0.7269 - val_loss: 0.6700 - val_accuracy: 0.7640\n",
            "Epoch 50/100\n",
            "92/92 [==============================] - 38s 408ms/step - loss: 0.7386 - accuracy: 0.7214 - val_loss: 0.7073 - val_accuracy: 0.7572\n",
            "Epoch 51/100\n",
            "92/92 [==============================] - 37s 406ms/step - loss: 0.7428 - accuracy: 0.7224 - val_loss: 0.6372 - val_accuracy: 0.7681\n",
            "Epoch 52/100\n",
            "92/92 [==============================] - 38s 409ms/step - loss: 0.7285 - accuracy: 0.7262 - val_loss: 0.6593 - val_accuracy: 0.7735\n",
            "Epoch 53/100\n",
            "92/92 [==============================] - 38s 408ms/step - loss: 0.7255 - accuracy: 0.7279 - val_loss: 0.6843 - val_accuracy: 0.7558\n",
            "Epoch 54/100\n",
            "92/92 [==============================] - 37s 407ms/step - loss: 0.7322 - accuracy: 0.7276 - val_loss: 0.7472 - val_accuracy: 0.7271\n",
            "Epoch 55/100\n",
            "92/92 [==============================] - 37s 407ms/step - loss: 0.7446 - accuracy: 0.7238 - val_loss: 0.6978 - val_accuracy: 0.7722\n",
            "Epoch 56/100\n",
            "92/92 [==============================] - 38s 408ms/step - loss: 0.7426 - accuracy: 0.7279 - val_loss: 0.6421 - val_accuracy: 0.7749\n",
            "Epoch 57/100\n",
            "92/92 [==============================] - 37s 406ms/step - loss: 0.7291 - accuracy: 0.7262 - val_loss: 0.7215 - val_accuracy: 0.7490\n",
            "Epoch 58/100\n",
            "92/92 [==============================] - 37s 407ms/step - loss: 0.7495 - accuracy: 0.7187 - val_loss: 0.7058 - val_accuracy: 0.7517\n",
            "Epoch 59/100\n",
            "92/92 [==============================] - 38s 408ms/step - loss: 0.7282 - accuracy: 0.7265 - val_loss: 0.7508 - val_accuracy: 0.7271\n",
            "Epoch 60/100\n",
            "92/92 [==============================] - 38s 408ms/step - loss: 0.7263 - accuracy: 0.7279 - val_loss: 0.6602 - val_accuracy: 0.7681\n",
            "Epoch 61/100\n",
            "92/92 [==============================] - 38s 409ms/step - loss: 0.7218 - accuracy: 0.7272 - val_loss: 0.6712 - val_accuracy: 0.7667\n",
            "Epoch 62/100\n",
            "92/92 [==============================] - 38s 408ms/step - loss: 0.7185 - accuracy: 0.7252 - val_loss: 0.6711 - val_accuracy: 0.7626\n",
            "Epoch 63/100\n",
            "92/92 [==============================] - 38s 408ms/step - loss: 0.7175 - accuracy: 0.7361 - val_loss: 0.6334 - val_accuracy: 0.7763\n",
            "Epoch 64/100\n",
            "92/92 [==============================] - 38s 408ms/step - loss: 0.7053 - accuracy: 0.7422 - val_loss: 0.6543 - val_accuracy: 0.7735\n",
            "Epoch 65/100\n",
            "92/92 [==============================] - 38s 412ms/step - loss: 0.7136 - accuracy: 0.7347 - val_loss: 0.6502 - val_accuracy: 0.7694\n",
            "Epoch 66/100\n",
            "92/92 [==============================] - 38s 412ms/step - loss: 0.7133 - accuracy: 0.7313 - val_loss: 0.6883 - val_accuracy: 0.7490\n",
            "Epoch 67/100\n",
            "92/92 [==============================] - 38s 411ms/step - loss: 0.7137 - accuracy: 0.7296 - val_loss: 0.7063 - val_accuracy: 0.7681\n",
            "Epoch 68/100\n",
            "92/92 [==============================] - 38s 411ms/step - loss: 0.7250 - accuracy: 0.7282 - val_loss: 0.7308 - val_accuracy: 0.7258\n",
            "Epoch 69/100\n",
            "92/92 [==============================] - 38s 409ms/step - loss: 0.7102 - accuracy: 0.7371 - val_loss: 0.6861 - val_accuracy: 0.7490\n",
            "Epoch 70/100\n",
            "92/92 [==============================] - 38s 409ms/step - loss: 0.7102 - accuracy: 0.7361 - val_loss: 0.6847 - val_accuracy: 0.7544\n",
            "Epoch 71/100\n",
            "92/92 [==============================] - 38s 408ms/step - loss: 0.7004 - accuracy: 0.7385 - val_loss: 0.6528 - val_accuracy: 0.7667\n",
            "Epoch 72/100\n",
            "92/92 [==============================] - 38s 415ms/step - loss: 0.6933 - accuracy: 0.7378 - val_loss: 0.6535 - val_accuracy: 0.7653\n",
            "Epoch 73/100\n",
            "92/92 [==============================] - 37s 406ms/step - loss: 0.6977 - accuracy: 0.7416 - val_loss: 0.7825 - val_accuracy: 0.7435\n",
            "Epoch 74/100\n",
            "92/92 [==============================] - 37s 407ms/step - loss: 0.7194 - accuracy: 0.7316 - val_loss: 0.7990 - val_accuracy: 0.7312\n",
            "Epoch 75/100\n",
            "92/92 [==============================] - 38s 408ms/step - loss: 0.7147 - accuracy: 0.7344 - val_loss: 0.6648 - val_accuracy: 0.7449\n",
            "Epoch 76/100\n",
            "92/92 [==============================] - 37s 407ms/step - loss: 0.7107 - accuracy: 0.7354 - val_loss: 0.6806 - val_accuracy: 0.7681\n",
            "Epoch 77/100\n",
            "92/92 [==============================] - 38s 408ms/step - loss: 0.7011 - accuracy: 0.7388 - val_loss: 0.7460 - val_accuracy: 0.7476\n",
            "Epoch 78/100\n",
            "92/92 [==============================] - 37s 407ms/step - loss: 0.7000 - accuracy: 0.7351 - val_loss: 0.6273 - val_accuracy: 0.7667\n",
            "Epoch 79/100\n",
            "92/92 [==============================] - 38s 407ms/step - loss: 0.6937 - accuracy: 0.7419 - val_loss: 0.6522 - val_accuracy: 0.7599\n",
            "Epoch 80/100\n",
            "92/92 [==============================] - 37s 407ms/step - loss: 0.6827 - accuracy: 0.7378 - val_loss: 0.6115 - val_accuracy: 0.7831\n",
            "Epoch 81/100\n",
            "92/92 [==============================] - 38s 408ms/step - loss: 0.6902 - accuracy: 0.7422 - val_loss: 0.8116 - val_accuracy: 0.7203\n",
            "Epoch 82/100\n",
            "92/92 [==============================] - 37s 407ms/step - loss: 0.6867 - accuracy: 0.7375 - val_loss: 0.6419 - val_accuracy: 0.7858\n",
            "Epoch 83/100\n",
            "92/92 [==============================] - 37s 405ms/step - loss: 0.6900 - accuracy: 0.7419 - val_loss: 0.6264 - val_accuracy: 0.7763\n",
            "Epoch 84/100\n",
            "92/92 [==============================] - 37s 407ms/step - loss: 0.6907 - accuracy: 0.7429 - val_loss: 0.7075 - val_accuracy: 0.7558\n",
            "Epoch 85/100\n",
            "92/92 [==============================] - 37s 406ms/step - loss: 0.6878 - accuracy: 0.7453 - val_loss: 1.1355 - val_accuracy: 0.6453\n",
            "Epoch 86/100\n",
            "92/92 [==============================] - 37s 406ms/step - loss: 0.7022 - accuracy: 0.7460 - val_loss: 0.6492 - val_accuracy: 0.7613\n",
            "Epoch 87/100\n",
            "92/92 [==============================] - 38s 408ms/step - loss: 0.6902 - accuracy: 0.7433 - val_loss: 0.7513 - val_accuracy: 0.7558\n",
            "Epoch 88/100\n",
            "92/92 [==============================] - 38s 408ms/step - loss: 0.6961 - accuracy: 0.7340 - val_loss: 0.8061 - val_accuracy: 0.7149\n",
            "Epoch 89/100\n",
            "92/92 [==============================] - 37s 406ms/step - loss: 0.6855 - accuracy: 0.7511 - val_loss: 0.6775 - val_accuracy: 0.7585\n",
            "Epoch 90/100\n",
            "92/92 [==============================] - 37s 407ms/step - loss: 0.6782 - accuracy: 0.7402 - val_loss: 0.6481 - val_accuracy: 0.7599\n",
            "Epoch 91/100\n",
            "92/92 [==============================] - 38s 409ms/step - loss: 0.6929 - accuracy: 0.7508 - val_loss: 0.6547 - val_accuracy: 0.7667\n",
            "Epoch 92/100\n",
            "92/92 [==============================] - 38s 408ms/step - loss: 0.6907 - accuracy: 0.7463 - val_loss: 0.6519 - val_accuracy: 0.7735\n",
            "Epoch 93/100\n",
            "92/92 [==============================] - 38s 408ms/step - loss: 0.6785 - accuracy: 0.7453 - val_loss: 0.6307 - val_accuracy: 0.7790\n",
            "Epoch 94/100\n",
            "92/92 [==============================] - 38s 408ms/step - loss: 0.6671 - accuracy: 0.7487 - val_loss: 0.6458 - val_accuracy: 0.7735\n",
            "Epoch 95/100\n",
            "92/92 [==============================] - 37s 406ms/step - loss: 0.6854 - accuracy: 0.7443 - val_loss: 0.6672 - val_accuracy: 0.7531\n",
            "Epoch 96/100\n",
            "92/92 [==============================] - 37s 407ms/step - loss: 0.6700 - accuracy: 0.7484 - val_loss: 0.6517 - val_accuracy: 0.7640\n",
            "Epoch 97/100\n",
            "92/92 [==============================] - 37s 406ms/step - loss: 0.6806 - accuracy: 0.7446 - val_loss: 0.6392 - val_accuracy: 0.7763\n",
            "Epoch 98/100\n",
            "92/92 [==============================] - 38s 409ms/step - loss: 0.6650 - accuracy: 0.7497 - val_loss: 0.7090 - val_accuracy: 0.7517\n",
            "Epoch 99/100\n",
            "92/92 [==============================] - 37s 407ms/step - loss: 0.6695 - accuracy: 0.7518 - val_loss: 0.6418 - val_accuracy: 0.7790\n",
            "Epoch 100/100\n",
            "92/92 [==============================] - 37s 406ms/step - loss: 0.6878 - accuracy: 0.7433 - val_loss: 0.6606 - val_accuracy: 0.7708\n"
          ]
        }
      ]
    },
    {
      "cell_type": "code",
      "metadata": {
        "id": "zeFcy4Lcar4b"
      },
      "source": [
        "model2.save('model/Moduul3/model3.2.h5')"
      ],
      "execution_count": 25,
      "outputs": []
    },
    {
      "cell_type": "code",
      "metadata": {
        "id": "iSE7w9IfZ8yy",
        "colab": {
          "base_uri": "https://localhost:8080/",
          "height": 316
        },
        "outputId": "b2219d6d-f883-48d3-fb8c-82ebfde22994"
      },
      "source": [
        "get_acc = his.history['accuracy']\n",
        "value_acc = his.history['val_accuracy']\n",
        "get_loss = his.history['loss']\n",
        "validation_loss = his.history['val_loss']\n",
        "\n",
        "epochs = range(len(get_acc))\n",
        "plt.plot(epochs, get_acc, 'r', label='Accuracy of Training data')\n",
        "plt.plot(epochs, value_acc, 'b', label='Accuracy of Validation data')\n",
        "plt.title('Training vs validation accuracy')\n",
        "plt.legend(loc=0)\n",
        "plt.figure()\n",
        "plt.show()\n",
        "plt.savefig(\"model/Moduul3/modelacc1.svg\")"
      ],
      "execution_count": 26,
      "outputs": [
        {
          "output_type": "display_data",
          "data": {
            "image/png": "[encoded data removed]",
            "text/plain": [
              "<Figure size 432x288 with 1 Axes>"
            ]
          },
          "metadata": {
            "needs_background": "light"
          }
        },
        {
          "output_type": "display_data",
          "data": {
            "text/plain": [
              "<Figure size 432x288 with 0 Axes>"
            ]
          },
          "metadata": {}
        },
        {
          "output_type": "display_data",
          "data": {
            "text/plain": [
              "<Figure size 432x288 with 0 Axes>"
            ]
          },
          "metadata": {}
        }
      ]
    },
    {
      "cell_type": "code",
      "metadata": {
        "id": "UF30IOCfDXXt",
        "colab": {
          "base_uri": "https://localhost:8080/",
          "height": 316
        },
        "outputId": "1999872c-3ec7-4d54-9c04-0658cfa5cc39"
      },
      "source": [
        "get_acc2 = his2.history['accuracy']\n",
        "value_acc2 = his2.history['val_accuracy']\n",
        "get_loss2 = his2.history['loss']\n",
        "validation_loss2 = his2.history['val_loss']\n",
        "\n",
        "epochs = range(len(get_acc2))\n",
        "plt.plot(epochs, get_acc2, 'r', label='Accuracy of Training data')\n",
        "plt.plot(epochs, value_acc2, 'b', label='Accuracy of Validation data')\n",
        "plt.title('Training vs validation accuracy')\n",
        "plt.legend(loc=0)\n",
        "plt.figure()\n",
        "plt.show()\n",
        "plt.savefig(\"model/Moduul3/modelacc2.svg\")"
      ],
      "execution_count": 28,
      "outputs": [
        {
          "output_type": "display_data",
          "data": {
            "image/png": "[encoded data removed]",
            "text/plain": [
              "<Figure size 432x288 with 1 Axes>"
            ]
          },
          "metadata": {
            "needs_background": "light"
          }
        },
        {
          "output_type": "display_data",
          "data": {
            "text/plain": [
              "<Figure size 432x288 with 0 Axes>"
            ]
          },
          "metadata": {}
        },
        {
          "output_type": "display_data",
          "data": {
            "text/plain": [
              "<Figure size 432x288 with 0 Axes>"
            ]
          },
          "metadata": {}
        }
      ]
    },
    {
      "cell_type": "code",
      "metadata": {
        "id": "La5T5DDADXbv",
        "colab": {
          "base_uri": "https://localhost:8080/",
          "height": 316
        },
        "outputId": "5ac0e54b-4754-4cbc-f26a-afe0f82ec28a"
      },
      "source": [
        "epochs = range(len(get_loss))\n",
        "plt.plot(epochs, get_loss, 'r', label='Loss of Training data')\n",
        "plt.plot(epochs, validation_loss, 'b', label='Loss of Validation data')\n",
        "plt.title('Training vs validation loss')\n",
        "plt.legend(loc=0)\n",
        "plt.figure()\n",
        "plt.show()\n",
        "plt.savefig(\"model/Moduul3/modelloss1.svg\")"
      ],
      "execution_count": 29,
      "outputs": [
        {
          "output_type": "display_data",
          "data": {
            "image/png": "[encoded data removed]",
            "text/plain": [
              "<Figure size 432x288 with 1 Axes>"
            ]
          },
          "metadata": {
            "needs_background": "light"
          }
        },
        {
          "output_type": "display_data",
          "data": {
            "text/plain": [
              "<Figure size 432x288 with 0 Axes>"
            ]
          },
          "metadata": {}
        },
        {
          "output_type": "display_data",
          "data": {
            "text/plain": [
              "<Figure size 432x288 with 0 Axes>"
            ]
          },
          "metadata": {}
        }
      ]
    },
    {
      "cell_type": "code",
      "metadata": {
        "colab": {
          "base_uri": "https://localhost:8080/",
          "height": 316
        },
        "id": "ofE7SzMg3F05",
        "outputId": "a3e50a4a-aa03-4a79-ad14-d3defffde51b"
      },
      "source": [
        "epochs = range(len(get_loss2))\n",
        "plt.plot(epochs, get_loss2, 'r', label='Loss of Training data')\n",
        "plt.plot(epochs, validation_loss2, 'b', label='Loss of Validation data')\n",
        "plt.title('Training vs validation loss')\n",
        "plt.legend(loc=0)\n",
        "plt.figure()\n",
        "plt.show()\n",
        "plt.savefig(\"model/Moduul3/modelloss2.svg\")"
      ],
      "execution_count": 30,
      "outputs": [
        {
          "output_type": "display_data",
          "data": {
            "image/png": "[encoded data removed]",
            "text/plain": [
              "<Figure size 432x288 with 1 Axes>"
            ]
          },
          "metadata": {
            "needs_background": "light"
          }
        },
        {
          "output_type": "display_data",
          "data": {
            "text/plain": [
              "<Figure size 432x288 with 0 Axes>"
            ]
          },
          "metadata": {}
        },
        {
          "output_type": "display_data",
          "data": {
            "text/plain": [
              "<Figure size 432x288 with 0 Axes>"
            ]
          },
          "metadata": {}
        }
      ]
    },
    {
      "cell_type": "code",
      "metadata": {
        "id": "ldw_1E8eHNwp"
      },
      "source": [
        "train_x=np.array(trainx)\n",
        "test_x=np.array(testx)\n",
        "\n",
        "test_y=datagen"
      ],
      "execution_count": 31,
      "outputs": []
    },
    {
      "cell_type": "code",
      "metadata": {
        "id": "z7GKdaHdz1Jw"
      },
      "source": [
        "from sklearn.metrics import accuracy_score,classification_report,confusion_matrix\n",
        "import numpy as np"
      ],
      "execution_count": 32,
      "outputs": []
    },
    {
      "cell_type": "code",
      "metadata": {
        "colab": {
          "base_uri": "https://localhost:8080/"
        },
        "id": "mAqh5T4Mlt3l",
        "outputId": "b4eb9b9b-b379-4645-eaa9-85af597d9dcf"
      },
      "source": [
        "from sklearn.metrics import classification_report\n",
        "\n",
        "pred = model.predict(testx)\n",
        "labels = pred > 0.5\n",
        "\n",
        "print(classification_report(testy, labels))"
      ],
      "execution_count": 33,
      "outputs": [
        {
          "output_type": "stream",
          "name": "stdout",
          "text": [
            "              precision    recall  f1-score   support\n",
            "\n",
            "           0       0.97      0.67      0.79       389\n",
            "           1       1.00      0.01      0.03        75\n",
            "           2       0.42      0.71      0.52       188\n",
            "           3       0.29      0.32      0.31        28\n",
            "           4       0.31      0.08      0.12        53\n",
            "\n",
            "   micro avg       0.64      0.56      0.60       733\n",
            "   macro avg       0.60      0.36      0.35       733\n",
            "weighted avg       0.76      0.56      0.58       733\n",
            " samples avg       0.56      0.56      0.56       733\n",
            "\n"
          ]
        },
        {
          "output_type": "stream",
          "name": "stderr",
          "text": [
            "/usr/local/lib/python3.7/dist-packages/sklearn/metrics/_classification.py:1308: UndefinedMetricWarning: Precision and F-score are ill-defined and being set to 0.0 in samples with no predicted labels. Use `zero_division` parameter to control this behavior.\n",
            "  _warn_prf(average, modifier, msg_start, len(result))\n"
          ]
        }
      ]
    },
    {
      "cell_type": "code",
      "metadata": {
        "colab": {
          "base_uri": "https://localhost:8080/"
        },
        "id": "dL3C-FPf8yJg",
        "outputId": "48cbaed6-ad6b-4fcb-aa2e-7d4d712db643"
      },
      "source": [
        "from sklearn.metrics import classification_report\n",
        "\n",
        "pred = model2.predict(testx)\n",
        "labels = pred > 0.5\n",
        "\n",
        "print(classification_report(testy, labels))"
      ],
      "execution_count": 36,
      "outputs": [
        {
          "output_type": "stream",
          "name": "stdout",
          "text": [
            "              precision    recall  f1-score   support\n",
            "\n",
            "           0       0.96      0.96      0.96       389\n",
            "           1       0.80      0.05      0.10        75\n",
            "           2       0.62      0.53      0.57       188\n",
            "           3       0.00      0.00      0.00        28\n",
            "           4       0.50      0.04      0.07        53\n",
            "\n",
            "   micro avg       0.86      0.65      0.74       733\n",
            "   macro avg       0.58      0.32      0.34       733\n",
            "weighted avg       0.79      0.65      0.67       733\n",
            " samples avg       0.65      0.65      0.65       733\n",
            "\n"
          ]
        },
        {
          "output_type": "stream",
          "name": "stderr",
          "text": [
            "/usr/local/lib/python3.7/dist-packages/sklearn/metrics/_classification.py:1308: UndefinedMetricWarning: Precision and F-score are ill-defined and being set to 0.0 in labels with no predicted samples. Use `zero_division` parameter to control this behavior.\n",
            "  _warn_prf(average, modifier, msg_start, len(result))\n",
            "/usr/local/lib/python3.7/dist-packages/sklearn/metrics/_classification.py:1308: UndefinedMetricWarning: Precision and F-score are ill-defined and being set to 0.0 in samples with no predicted labels. Use `zero_division` parameter to control this behavior.\n",
            "  _warn_prf(average, modifier, msg_start, len(result))\n"
          ]
        }
      ]
    },
    {
      "cell_type": "code",
      "metadata": {
        "id": "M6-3PsoEXlSP"
      },
      "source": [
        ""
      ],
      "execution_count": 36,
      "outputs": []
    },
    {
      "cell_type": "markdown",
      "metadata": {
        "id": "6uPLgH20wdBz"
      },
      "source": [
        "### Definisi data generator"
      ]
    },
    {
      "cell_type": "code",
      "metadata": {
        "colab": {
          "base_uri": "https://localhost:8080/"
        },
        "id": "OLtxc0BGWh3b",
        "outputId": "d7f1be07-ea39-4529-f4be-1bb7f7eff972"
      },
      "source": [
        "!ls aptos2019-blindness-detection"
      ],
      "execution_count": 78,
      "outputs": [
        {
          "output_type": "stream",
          "name": "stdout",
          "text": [
            "ls: cannot access 'aptos2019-blindness-detection': No such file or directory\n"
          ]
        }
      ]
    },
    {
      "cell_type": "code",
      "metadata": {
        "colab": {
          "base_uri": "https://localhost:8080/"
        },
        "id": "Vg6qGN_ZYuLP",
        "outputId": "8425e947-6fab-4cd7-f7c6-560afe4b67b8"
      },
      "source": [
        "%cd aptos2019-blindness-detection/"
      ],
      "execution_count": 41,
      "outputs": [
        {
          "output_type": "stream",
          "name": "stdout",
          "text": [
            "/content/aptos2019-blindness-detection\n"
          ]
        }
      ]
    },
    {
      "cell_type": "code",
      "metadata": {
        "colab": {
          "base_uri": "https://localhost:8080/"
        },
        "id": "AWxZFMg1ZmGC",
        "outputId": "68263cc1-80df-41b7-b6e2-0a9ea8fb6ea1"
      },
      "source": [
        "!ls "
      ],
      "execution_count": 85,
      "outputs": [
        {
          "output_type": "stream",
          "name": "stdout",
          "text": [
            "logs  sample_submission.csv  test.csv  test_images  train.csv  train_images\n"
          ]
        }
      ]
    },
    {
      "cell_type": "code",
      "metadata": {
        "colab": {
          "base_uri": "https://localhost:8080/"
        },
        "id": "2RzQ9CCIZw_9",
        "outputId": "166739d6-63fd-44a6-cb2e-c5e35adcc63c"
      },
      "source": [
        "%cd aptos2019-blindness-detection"
      ],
      "execution_count": 82,
      "outputs": [
        {
          "output_type": "stream",
          "name": "stdout",
          "text": [
            "[Errno 2] No such file or directory: 'aptos2019-blindness-detection'\n",
            "/content/aptos2019-blindness-detection\n"
          ]
        }
      ]
    },
    {
      "cell_type": "code",
      "metadata": {
        "id": "MIQ6ROe1hr05"
      },
      "source": [
        ""
      ],
      "execution_count": null,
      "outputs": []
    },
    {
      "cell_type": "code",
      "metadata": {
        "id": "2zZXbW-W1HBB",
        "colab": {
          "base_uri": "https://localhost:8080/",
          "height": 380
        },
        "outputId": "54a2a3b7-87ed-4b64-8a98-b59219a36590"
      },
      "source": [
        "from keras.preprocessing.image import ImageDataGenerator\n",
        "\n",
        "\n",
        "train_datagen = ImageDataGenerator(width_shift_range=0.2,\n",
        "                                   height_shift_range=0.2,\n",
        "                                   rescale=1./255,\n",
        "                                   shear_range=0.2,\n",
        "                                   horizontal_flip=True,\n",
        "                                   fill_mode='nearest')\n",
        "\n",
        "training_set = train_datagen.flow_from_directory(\"aptos2019-blindness-detection/train_images\",\n",
        "                                                 target_size=(128,128),\n",
        "                                                 color_mode=\"rgb\",\n",
        "                                                 shuffle=False,\n",
        "                                                 batch_size = 8,\n",
        "                                                 class_mode='categorical')"
      ],
      "execution_count": 87,
      "outputs": [
        {
          "output_type": "error",
          "ename": "FileNotFoundError",
          "evalue": "ignored",
          "traceback": [
            "\u001b[0;31m---------------------------------------------------------------------------\u001b[0m",
            "\u001b[0;31mFileNotFoundError\u001b[0m                         Traceback (most recent call last)",
            "\u001b[0;32m<ipython-input-87-63c2aeed43af>\u001b[0m in \u001b[0;36m<module>\u001b[0;34m()\u001b[0m\n\u001b[1;32m     14\u001b[0m                                                  \u001b[0mshuffle\u001b[0m\u001b[0;34m=\u001b[0m\u001b[0;32mFalse\u001b[0m\u001b[0;34m,\u001b[0m\u001b[0;34m\u001b[0m\u001b[0;34m\u001b[0m\u001b[0m\n\u001b[1;32m     15\u001b[0m                                                  \u001b[0mbatch_size\u001b[0m \u001b[0;34m=\u001b[0m \u001b[0;36m8\u001b[0m\u001b[0;34m,\u001b[0m\u001b[0;34m\u001b[0m\u001b[0;34m\u001b[0m\u001b[0m\n\u001b[0;32m---> 16\u001b[0;31m                                                  class_mode='categorical')\n\u001b[0m",
            "\u001b[0;32m/usr/local/lib/python3.7/dist-packages/keras/preprocessing/image.py\u001b[0m in \u001b[0;36mflow_from_directory\u001b[0;34m(self, directory, target_size, color_mode, classes, class_mode, batch_size, shuffle, seed, save_to_dir, save_prefix, save_format, follow_links, subset, interpolation)\u001b[0m\n\u001b[1;32m    990\u001b[0m         \u001b[0mfollow_links\u001b[0m\u001b[0;34m=\u001b[0m\u001b[0mfollow_links\u001b[0m\u001b[0;34m,\u001b[0m\u001b[0;34m\u001b[0m\u001b[0;34m\u001b[0m\u001b[0m\n\u001b[1;32m    991\u001b[0m         \u001b[0msubset\u001b[0m\u001b[0;34m=\u001b[0m\u001b[0msubset\u001b[0m\u001b[0;34m,\u001b[0m\u001b[0;34m\u001b[0m\u001b[0;34m\u001b[0m\u001b[0m\n\u001b[0;32m--> 992\u001b[0;31m         interpolation=interpolation)\n\u001b[0m\u001b[1;32m    993\u001b[0m \u001b[0;34m\u001b[0m\u001b[0m\n\u001b[1;32m    994\u001b[0m   def flow_from_dataframe(self,\n",
            "\u001b[0;32m/usr/local/lib/python3.7/dist-packages/keras/preprocessing/image.py\u001b[0m in \u001b[0;36m__init__\u001b[0;34m(self, directory, image_data_generator, target_size, color_mode, classes, class_mode, batch_size, shuffle, seed, data_format, save_to_dir, save_prefix, save_format, follow_links, subset, interpolation, dtype)\u001b[0m\n\u001b[1;32m    408\u001b[0m         \u001b[0msubset\u001b[0m\u001b[0;34m=\u001b[0m\u001b[0msubset\u001b[0m\u001b[0;34m,\u001b[0m\u001b[0;34m\u001b[0m\u001b[0;34m\u001b[0m\u001b[0m\n\u001b[1;32m    409\u001b[0m         \u001b[0minterpolation\u001b[0m\u001b[0;34m=\u001b[0m\u001b[0minterpolation\u001b[0m\u001b[0;34m,\u001b[0m\u001b[0;34m\u001b[0m\u001b[0;34m\u001b[0m\u001b[0m\n\u001b[0;32m--> 410\u001b[0;31m         **kwargs)\n\u001b[0m\u001b[1;32m    411\u001b[0m \u001b[0;34m\u001b[0m\u001b[0m\n\u001b[1;32m    412\u001b[0m \u001b[0;34m\u001b[0m\u001b[0m\n",
            "\u001b[0;32m/usr/local/lib/python3.7/dist-packages/keras_preprocessing/image/directory_iterator.py\u001b[0m in \u001b[0;36m__init__\u001b[0;34m(self, directory, image_data_generator, target_size, color_mode, classes, class_mode, batch_size, shuffle, seed, data_format, save_to_dir, save_prefix, save_format, follow_links, subset, interpolation, dtype)\u001b[0m\n\u001b[1;32m    113\u001b[0m         \u001b[0;32mif\u001b[0m \u001b[0;32mnot\u001b[0m \u001b[0mclasses\u001b[0m\u001b[0;34m:\u001b[0m\u001b[0;34m\u001b[0m\u001b[0;34m\u001b[0m\u001b[0m\n\u001b[1;32m    114\u001b[0m             \u001b[0mclasses\u001b[0m \u001b[0;34m=\u001b[0m \u001b[0;34m[\u001b[0m\u001b[0;34m]\u001b[0m\u001b[0;34m\u001b[0m\u001b[0;34m\u001b[0m\u001b[0m\n\u001b[0;32m--> 115\u001b[0;31m             \u001b[0;32mfor\u001b[0m \u001b[0msubdir\u001b[0m \u001b[0;32min\u001b[0m \u001b[0msorted\u001b[0m\u001b[0;34m(\u001b[0m\u001b[0mos\u001b[0m\u001b[0;34m.\u001b[0m\u001b[0mlistdir\u001b[0m\u001b[0;34m(\u001b[0m\u001b[0mdirectory\u001b[0m\u001b[0;34m)\u001b[0m\u001b[0;34m)\u001b[0m\u001b[0;34m:\u001b[0m\u001b[0;34m\u001b[0m\u001b[0;34m\u001b[0m\u001b[0m\n\u001b[0m\u001b[1;32m    116\u001b[0m                 \u001b[0;32mif\u001b[0m \u001b[0mos\u001b[0m\u001b[0;34m.\u001b[0m\u001b[0mpath\u001b[0m\u001b[0;34m.\u001b[0m\u001b[0misdir\u001b[0m\u001b[0;34m(\u001b[0m\u001b[0mos\u001b[0m\u001b[0;34m.\u001b[0m\u001b[0mpath\u001b[0m\u001b[0;34m.\u001b[0m\u001b[0mjoin\u001b[0m\u001b[0;34m(\u001b[0m\u001b[0mdirectory\u001b[0m\u001b[0;34m,\u001b[0m \u001b[0msubdir\u001b[0m\u001b[0;34m)\u001b[0m\u001b[0;34m)\u001b[0m\u001b[0;34m:\u001b[0m\u001b[0;34m\u001b[0m\u001b[0;34m\u001b[0m\u001b[0m\n\u001b[1;32m    117\u001b[0m                     \u001b[0mclasses\u001b[0m\u001b[0;34m.\u001b[0m\u001b[0mappend\u001b[0m\u001b[0;34m(\u001b[0m\u001b[0msubdir\u001b[0m\u001b[0;34m)\u001b[0m\u001b[0;34m\u001b[0m\u001b[0;34m\u001b[0m\u001b[0m\n",
            "\u001b[0;31mFileNotFoundError\u001b[0m: [Errno 2] No such file or directory: 'aptos2019-blindness-detection/train_images'"
          ]
        }
      ]
    },
    {
      "cell_type": "code",
      "metadata": {
        "id": "LIoUs1Rl2DWs",
        "colab": {
          "base_uri": "https://localhost:8080/",
          "height": 380
        },
        "outputId": "5420d8ae-c0e1-468c-eef5-96e12bfea0bf"
      },
      "source": [
        "validation_datagen = ImageDataGenerator(width_shift_range=0.2,\n",
        "                                        height_shift_range=0.2,\n",
        "                                        rescale=1./255,\n",
        "                                        shear_range=0.2,\n",
        "                                        horizontal_flip=True,\n",
        "                                        fill_mode='nearest')\n",
        "\n",
        "validation_set = validation_datagen.flow_from_directory(\"aptos2019-blindness-detection/test_images\",\n",
        "                                                        target_size=(128,128),\n",
        "                                                        color_mode=\"rgb\",\n",
        "                                                        shuffle=False,\n",
        "                                                        batch_size = 8)"
      ],
      "execution_count": 89,
      "outputs": [
        {
          "output_type": "error",
          "ename": "FileNotFoundError",
          "evalue": "ignored",
          "traceback": [
            "\u001b[0;31m---------------------------------------------------------------------------\u001b[0m",
            "\u001b[0;31mFileNotFoundError\u001b[0m                         Traceback (most recent call last)",
            "\u001b[0;32m<ipython-input-89-527ed4a67c9c>\u001b[0m in \u001b[0;36m<module>\u001b[0;34m()\u001b[0m\n\u001b[1;32m     10\u001b[0m                                                         \u001b[0mcolor_mode\u001b[0m\u001b[0;34m=\u001b[0m\u001b[0;34m\"rgb\"\u001b[0m\u001b[0;34m,\u001b[0m\u001b[0;34m\u001b[0m\u001b[0;34m\u001b[0m\u001b[0m\n\u001b[1;32m     11\u001b[0m                                                         \u001b[0mshuffle\u001b[0m\u001b[0;34m=\u001b[0m\u001b[0;32mFalse\u001b[0m\u001b[0;34m,\u001b[0m\u001b[0;34m\u001b[0m\u001b[0;34m\u001b[0m\u001b[0m\n\u001b[0;32m---> 12\u001b[0;31m                                                         batch_size = 8)\n\u001b[0m",
            "\u001b[0;32m/usr/local/lib/python3.7/dist-packages/keras/preprocessing/image.py\u001b[0m in \u001b[0;36mflow_from_directory\u001b[0;34m(self, directory, target_size, color_mode, classes, class_mode, batch_size, shuffle, seed, save_to_dir, save_prefix, save_format, follow_links, subset, interpolation)\u001b[0m\n\u001b[1;32m    990\u001b[0m         \u001b[0mfollow_links\u001b[0m\u001b[0;34m=\u001b[0m\u001b[0mfollow_links\u001b[0m\u001b[0;34m,\u001b[0m\u001b[0;34m\u001b[0m\u001b[0;34m\u001b[0m\u001b[0m\n\u001b[1;32m    991\u001b[0m         \u001b[0msubset\u001b[0m\u001b[0;34m=\u001b[0m\u001b[0msubset\u001b[0m\u001b[0;34m,\u001b[0m\u001b[0;34m\u001b[0m\u001b[0;34m\u001b[0m\u001b[0m\n\u001b[0;32m--> 992\u001b[0;31m         interpolation=interpolation)\n\u001b[0m\u001b[1;32m    993\u001b[0m \u001b[0;34m\u001b[0m\u001b[0m\n\u001b[1;32m    994\u001b[0m   def flow_from_dataframe(self,\n",
            "\u001b[0;32m/usr/local/lib/python3.7/dist-packages/keras/preprocessing/image.py\u001b[0m in \u001b[0;36m__init__\u001b[0;34m(self, directory, image_data_generator, target_size, color_mode, classes, class_mode, batch_size, shuffle, seed, data_format, save_to_dir, save_prefix, save_format, follow_links, subset, interpolation, dtype)\u001b[0m\n\u001b[1;32m    408\u001b[0m         \u001b[0msubset\u001b[0m\u001b[0;34m=\u001b[0m\u001b[0msubset\u001b[0m\u001b[0;34m,\u001b[0m\u001b[0;34m\u001b[0m\u001b[0;34m\u001b[0m\u001b[0m\n\u001b[1;32m    409\u001b[0m         \u001b[0minterpolation\u001b[0m\u001b[0;34m=\u001b[0m\u001b[0minterpolation\u001b[0m\u001b[0;34m,\u001b[0m\u001b[0;34m\u001b[0m\u001b[0;34m\u001b[0m\u001b[0m\n\u001b[0;32m--> 410\u001b[0;31m         **kwargs)\n\u001b[0m\u001b[1;32m    411\u001b[0m \u001b[0;34m\u001b[0m\u001b[0m\n\u001b[1;32m    412\u001b[0m \u001b[0;34m\u001b[0m\u001b[0m\n",
            "\u001b[0;32m/usr/local/lib/python3.7/dist-packages/keras_preprocessing/image/directory_iterator.py\u001b[0m in \u001b[0;36m__init__\u001b[0;34m(self, directory, image_data_generator, target_size, color_mode, classes, class_mode, batch_size, shuffle, seed, data_format, save_to_dir, save_prefix, save_format, follow_links, subset, interpolation, dtype)\u001b[0m\n\u001b[1;32m    113\u001b[0m         \u001b[0;32mif\u001b[0m \u001b[0;32mnot\u001b[0m \u001b[0mclasses\u001b[0m\u001b[0;34m:\u001b[0m\u001b[0;34m\u001b[0m\u001b[0;34m\u001b[0m\u001b[0m\n\u001b[1;32m    114\u001b[0m             \u001b[0mclasses\u001b[0m \u001b[0;34m=\u001b[0m \u001b[0;34m[\u001b[0m\u001b[0;34m]\u001b[0m\u001b[0;34m\u001b[0m\u001b[0;34m\u001b[0m\u001b[0m\n\u001b[0;32m--> 115\u001b[0;31m             \u001b[0;32mfor\u001b[0m \u001b[0msubdir\u001b[0m \u001b[0;32min\u001b[0m \u001b[0msorted\u001b[0m\u001b[0;34m(\u001b[0m\u001b[0mos\u001b[0m\u001b[0;34m.\u001b[0m\u001b[0mlistdir\u001b[0m\u001b[0;34m(\u001b[0m\u001b[0mdirectory\u001b[0m\u001b[0;34m)\u001b[0m\u001b[0;34m)\u001b[0m\u001b[0;34m:\u001b[0m\u001b[0;34m\u001b[0m\u001b[0;34m\u001b[0m\u001b[0m\n\u001b[0m\u001b[1;32m    116\u001b[0m                 \u001b[0;32mif\u001b[0m \u001b[0mos\u001b[0m\u001b[0;34m.\u001b[0m\u001b[0mpath\u001b[0m\u001b[0;34m.\u001b[0m\u001b[0misdir\u001b[0m\u001b[0;34m(\u001b[0m\u001b[0mos\u001b[0m\u001b[0;34m.\u001b[0m\u001b[0mpath\u001b[0m\u001b[0;34m.\u001b[0m\u001b[0mjoin\u001b[0m\u001b[0;34m(\u001b[0m\u001b[0mdirectory\u001b[0m\u001b[0;34m,\u001b[0m \u001b[0msubdir\u001b[0m\u001b[0;34m)\u001b[0m\u001b[0;34m)\u001b[0m\u001b[0;34m:\u001b[0m\u001b[0;34m\u001b[0m\u001b[0;34m\u001b[0m\u001b[0m\n\u001b[1;32m    117\u001b[0m                     \u001b[0mclasses\u001b[0m\u001b[0;34m.\u001b[0m\u001b[0mappend\u001b[0m\u001b[0;34m(\u001b[0m\u001b[0msubdir\u001b[0m\u001b[0;34m)\u001b[0m\u001b[0;34m\u001b[0m\u001b[0;34m\u001b[0m\u001b[0m\n",
            "\u001b[0;31mFileNotFoundError\u001b[0m: [Errno 2] No such file or directory: 'aptos2019-blindness-detection/test_images'"
          ]
        }
      ]
    },
    {
      "cell_type": "markdown",
      "metadata": {
        "id": "nZMlM2ybwwVJ"
      },
      "source": [
        "### Load TensorBoard notebook extension dan Hapus semua **logs** sebelumnya"
      ]
    },
    {
      "cell_type": "code",
      "metadata": {
        "id": "C1sc8yGyfUNz"
      },
      "source": [
        "import tensorflow as tf\n",
        "from tensorboard.plugins.hparams import api as hp"
      ],
      "execution_count": 62,
      "outputs": []
    },
    {
      "cell_type": "code",
      "metadata": {
        "id": "KQl5OA_4cWd4"
      },
      "source": [
        "%load_ext tensorboard"
      ],
      "execution_count": 63,
      "outputs": []
    },
    {
      "cell_type": "code",
      "metadata": {
        "id": "9t_9UZ6Aevsu"
      },
      "source": [
        "!rm -rf ./logs/ "
      ],
      "execution_count": 64,
      "outputs": []
    },
    {
      "cell_type": "markdown",
      "metadata": {
        "id": "kidFGq1SxFWb"
      },
      "source": [
        "### Definisikan hparam yang ingin digunakan. \n",
        "\n",
        "Semakin banyak hparam yang didefinisikan maka semakin banyak pula kombinasi hyperparameter digunakan untuk training model. Semakin banyak kombinasi maka semakin memakan banyak waktu (FYI : lama training model yang digunakan dalam contoh ini +/- 3-4 jam menggunakan GPU).\n",
        "\n",
        "Menyimpan semua summary hparam kedalam `logs/hparam_tuning` untuk digunakan oleh tensorboard dan sebagai penyimpanan sementara training information."
      ]
    },
    {
      "cell_type": "code",
      "metadata": {
        "id": "KtqStY2Wt3hC"
      },
      "source": [
        "HP_NUM_UNITS = hp.HParam('num_units', hp.Discrete([64, 128]))\n",
        "HP_DROPOUT = hp.HParam('dropout', hp.RealInterval(0.2, 0.5))\n",
        "HP_OPTIMIZER = hp.HParam('optimizer', hp.Discrete(['adam', 'sgd', 'adadelta']))\n",
        "\n",
        "METRIC_ACCURACY = 'accuracy'\n",
        "\n",
        "with tf.summary.create_file_writer('logs/hparam_tuning').as_default():\n",
        "  hp.hparams_config(\n",
        "    hparams=[HP_NUM_UNITS, HP_DROPOUT, HP_OPTIMIZER],\n",
        "    metrics=[hp.Metric(METRIC_ACCURACY, display_name='Accuracy')],\n",
        "  )"
      ],
      "execution_count": 65,
      "outputs": []
    },
    {
      "cell_type": "markdown",
      "metadata": {
        "id": "_hnNfWj2zFzr"
      },
      "source": [
        "### Definisikan `x_val dan y_val` dari validation data untuk evaluasi model."
      ]
    },
    {
      "cell_type": "code",
      "metadata": {
        "id": "L2_dOLn4fx0b",
        "colab": {
          "base_uri": "https://localhost:8080/",
          "height": 183
        },
        "outputId": "e9d73f8f-8b76-4ebe-dec5-4a790e71d589"
      },
      "source": [
        "xvl, yvl = zip(*(validation_set[i] for i in range(len(validation_set))))\n",
        "x_val, y_val = np.vstack(xvl), np.vstack(yvl)"
      ],
      "execution_count": 66,
      "outputs": [
        {
          "output_type": "error",
          "ename": "NameError",
          "evalue": "ignored",
          "traceback": [
            "\u001b[0;31m---------------------------------------------------------------------------\u001b[0m",
            "\u001b[0;31mNameError\u001b[0m                                 Traceback (most recent call last)",
            "\u001b[0;32m<ipython-input-66-e70caedfee85>\u001b[0m in \u001b[0;36m<module>\u001b[0;34m()\u001b[0m\n\u001b[0;32m----> 1\u001b[0;31m \u001b[0mxvl\u001b[0m\u001b[0;34m,\u001b[0m \u001b[0myvl\u001b[0m \u001b[0;34m=\u001b[0m \u001b[0mzip\u001b[0m\u001b[0;34m(\u001b[0m\u001b[0;34m*\u001b[0m\u001b[0;34m(\u001b[0m\u001b[0mvalidation_set\u001b[0m\u001b[0;34m[\u001b[0m\u001b[0mi\u001b[0m\u001b[0;34m]\u001b[0m \u001b[0;32mfor\u001b[0m \u001b[0mi\u001b[0m \u001b[0;32min\u001b[0m \u001b[0mrange\u001b[0m\u001b[0;34m(\u001b[0m\u001b[0mlen\u001b[0m\u001b[0;34m(\u001b[0m\u001b[0mvalidation_set\u001b[0m\u001b[0;34m)\u001b[0m\u001b[0;34m)\u001b[0m\u001b[0;34m)\u001b[0m\u001b[0;34m)\u001b[0m\u001b[0;34m\u001b[0m\u001b[0;34m\u001b[0m\u001b[0m\n\u001b[0m\u001b[1;32m      2\u001b[0m \u001b[0mx_val\u001b[0m\u001b[0;34m,\u001b[0m \u001b[0my_val\u001b[0m \u001b[0;34m=\u001b[0m \u001b[0mnp\u001b[0m\u001b[0;34m.\u001b[0m\u001b[0mvstack\u001b[0m\u001b[0;34m(\u001b[0m\u001b[0mxvl\u001b[0m\u001b[0;34m)\u001b[0m\u001b[0;34m,\u001b[0m \u001b[0mnp\u001b[0m\u001b[0;34m.\u001b[0m\u001b[0mvstack\u001b[0m\u001b[0;34m(\u001b[0m\u001b[0myvl\u001b[0m\u001b[0;34m)\u001b[0m\u001b[0;34m\u001b[0m\u001b[0;34m\u001b[0m\u001b[0m\n",
            "\u001b[0;31mNameError\u001b[0m: name 'validation_set' is not defined"
          ]
        }
      ]
    },
    {
      "cell_type": "markdown",
      "metadata": {
        "id": "ca9jJmvOyUP3"
      },
      "source": [
        "### Definisikan Model menggunakan hparam.\n",
        "\n",
        "Disini anda mendefinisikan model, compile model, training model secara bersamaan didalam fungsi `train_test_model`. Fungsi ini akan mengembalikan nilai akurasi rata-rata dari masing-masing model."
      ]
    },
    {
      "cell_type": "code",
      "metadata": {
        "id": "1F9wtViCuA5q"
      },
      "source": [
        "def train_test_model(hparams):\n",
        "  model = tf.keras.models.Sequential([tf.keras.layers.Conv2D(64, (5, 5), \n",
        "                                                             activation=tf.nn.relu, \n",
        "                                                             input_shape=(128,128,3)),\n",
        "                                      tf.keras.layers.BatchNormalization(),\n",
        "                                      tf.keras.layers.MaxPooling2D(pool_size=(2, 2)),\n",
        "                                      tf.keras.layers.Dropout(hparams[HP_DROPOUT]),\n",
        "                                      tf.keras.layers.Conv2D(64, (5, 5), \n",
        "                                                             activation=tf.nn.relu),\n",
        "                                      tf.keras.layers.BatchNormalization(),\n",
        "                                      tf.keras.layers.MaxPooling2D(pool_size=(2, 2)),\n",
        "                                      tf.keras.layers.MaxPooling2D(pool_size=(2, 2)),\n",
        "                                      tf.keras.layers.Dropout(hparams[HP_DROPOUT]),\n",
        "                                      tf.keras.layers.Conv2D(32, (5, 5), \n",
        "                                                             activation=tf.nn.relu),\n",
        "                                      tf.keras.layers.BatchNormalization(),\n",
        "                                      tf.keras.layers.MaxPooling2D(pool_size=(2, 2)),\n",
        "                                      tf.keras.layers.MaxPooling2D(pool_size=(2, 2)),\n",
        "                                      tf.keras.layers.Dropout(hparams[HP_DROPOUT]),\n",
        "                                      tf.keras.layers.Flatten(),\n",
        "                                      tf.keras.layers.Dense(hparams[HP_NUM_UNITS], \n",
        "                                                            activation=tf.nn.relu),\n",
        "                                      tf.keras.layers.Dense(64, activation=tf.nn.relu),\n",
        "                                      tf.keras.layers.Dense(32, activation=tf.nn.relu),\n",
        "                                      tf.keras.layers.Dropout(hparams[HP_DROPOUT]),\n",
        "                                      tf.keras.layers.Dense(2, activation=tf.nn.softmax),\n",
        "                                      ])\n",
        "\n",
        "  model.compile(\n",
        "      optimizer=hparams[HP_OPTIMIZER],\n",
        "      loss='categorical_crossentropy',\n",
        "      metrics=['accuracy'],\n",
        "  )\n",
        "\n",
        "  model.fit(training_set, \n",
        "            validation_data=validation_set, \n",
        "            epochs=10,\n",
        "            )\n",
        "  _, accuracy = model.evaluate(x_val, y_val)\n",
        "  return accuracy"
      ],
      "execution_count": 70,
      "outputs": []
    },
    {
      "cell_type": "markdown",
      "metadata": {
        "id": "Y_7_LkCpzjI9"
      },
      "source": [
        "### Definisikan fungsi `run` \n",
        "\n",
        "Hal ini bertujuan untuk melakukan log record hparams yang berisi summary dari hyperparameters dan final accuracy-nya."
      ]
    },
    {
      "cell_type": "code",
      "metadata": {
        "id": "EdmyowiD3RDK"
      },
      "source": [
        "def run(run_dir, hparams):\n",
        "  with tf.summary.create_file_writer(run_dir).as_default():\n",
        "    hp.hparams(hparams)  # record the values used in this trial\n",
        "    accuracy = train_test_model(hparams)\n",
        "    tf.summary.scalar(METRIC_ACCURACY, accuracy, step=50)"
      ],
      "execution_count": 71,
      "outputs": []
    },
    {
      "cell_type": "markdown",
      "metadata": {
        "id": "7FFte3Dd0dP3"
      },
      "source": [
        "### Grid Search Training Model\n",
        "\n",
        "\n",
        "Mulai jalankan training dan catat semuanya di bawah satu direktori induk.\n",
        "Sekarang Anda dapat mencoba beberapa percobaan, latih masing-masing dengan serangkaian parameter yang berbeda. Untuk kesederhanaan, gunakan **grid search**: coba semua kombinasi parameter diskrit dan hanya batas bawah dan atas dari parameter bernilai riil. Untuk skenario yang lebih kompleks, mungkin lebih efektif untuk memilih setiap nilai hyperparameter secara acak (ini disebut **random search**). Ada metode yang lebih maju yang dapat digunakan.\n",
        "\n",
        "Jalankan beberapa percobaan, hal ini akan memakan waktu yang cukup lama:"
      ]
    },
    {
      "cell_type": "code",
      "metadata": {
        "id": "7wxllISrmPo5",
        "colab": {
          "base_uri": "https://localhost:8080/"
        },
        "outputId": "bb5da04f-cc9a-4a9f-f7fd-bbd4b021ee3b"
      },
      "source": [
        "['adam', 'sgd', 'adadelta']"
      ],
      "execution_count": 72,
      "outputs": [
        {
          "output_type": "execute_result",
          "data": {
            "text/plain": [
              "['adam', 'sgd', 'adadelta']"
            ]
          },
          "metadata": {},
          "execution_count": 72
        }
      ]
    },
    {
      "cell_type": "code",
      "metadata": {
        "id": "0OoQ7cc940GI",
        "colab": {
          "base_uri": "https://localhost:8080/",
          "height": 397
        },
        "outputId": "e979fc86-ae30-4c35-ac28-ff7ae0f22f24"
      },
      "source": [
        "session_num = 0\n",
        "\n",
        "for num_units in HP_NUM_UNITS.domain.values:\n",
        "  for dropout_rate in (HP_DROPOUT.domain.min_value, HP_DROPOUT.domain.max_value):\n",
        "    for optimizer in HP_OPTIMIZER.domain.values:\n",
        "      hparams = {\n",
        "          HP_NUM_UNITS: num_units,\n",
        "          HP_DROPOUT: dropout_rate,\n",
        "          HP_OPTIMIZER: optimizer,\n",
        "      }\n",
        "      run_name = \"run-%d\" % session_num\n",
        "      print('--- Starting trial: %s' % run_name)\n",
        "      print({h.name: hparams[h] for h in hparams})\n",
        "      run('logs/hparam_tuning/' + run_name, hparams)\n",
        "      session_num += 1\n"
      ],
      "execution_count": 73,
      "outputs": [
        {
          "output_type": "stream",
          "name": "stdout",
          "text": [
            "--- Starting trial: run-0\n",
            "{'num_units': 64, 'dropout': 0.2, 'optimizer': 'adadelta'}\n"
          ]
        },
        {
          "output_type": "error",
          "ename": "NameError",
          "evalue": "ignored",
          "traceback": [
            "\u001b[0;31m---------------------------------------------------------------------------\u001b[0m",
            "\u001b[0;31mNameError\u001b[0m                                 Traceback (most recent call last)",
            "\u001b[0;32m<ipython-input-73-817954b1c171>\u001b[0m in \u001b[0;36m<module>\u001b[0;34m()\u001b[0m\n\u001b[1;32m     12\u001b[0m       \u001b[0mprint\u001b[0m\u001b[0;34m(\u001b[0m\u001b[0;34m'--- Starting trial: %s'\u001b[0m \u001b[0;34m%\u001b[0m \u001b[0mrun_name\u001b[0m\u001b[0;34m)\u001b[0m\u001b[0;34m\u001b[0m\u001b[0;34m\u001b[0m\u001b[0m\n\u001b[1;32m     13\u001b[0m       \u001b[0mprint\u001b[0m\u001b[0;34m(\u001b[0m\u001b[0;34m{\u001b[0m\u001b[0mh\u001b[0m\u001b[0;34m.\u001b[0m\u001b[0mname\u001b[0m\u001b[0;34m:\u001b[0m \u001b[0mhparams\u001b[0m\u001b[0;34m[\u001b[0m\u001b[0mh\u001b[0m\u001b[0;34m]\u001b[0m \u001b[0;32mfor\u001b[0m \u001b[0mh\u001b[0m \u001b[0;32min\u001b[0m \u001b[0mhparams\u001b[0m\u001b[0;34m}\u001b[0m\u001b[0;34m)\u001b[0m\u001b[0;34m\u001b[0m\u001b[0;34m\u001b[0m\u001b[0m\n\u001b[0;32m---> 14\u001b[0;31m       \u001b[0mrun\u001b[0m\u001b[0;34m(\u001b[0m\u001b[0;34m'logs/hparam_tuning/'\u001b[0m \u001b[0;34m+\u001b[0m \u001b[0mrun_name\u001b[0m\u001b[0;34m,\u001b[0m \u001b[0mhparams\u001b[0m\u001b[0;34m)\u001b[0m\u001b[0;34m\u001b[0m\u001b[0;34m\u001b[0m\u001b[0m\n\u001b[0m\u001b[1;32m     15\u001b[0m       \u001b[0msession_num\u001b[0m \u001b[0;34m+=\u001b[0m \u001b[0;36m1\u001b[0m\u001b[0;34m\u001b[0m\u001b[0;34m\u001b[0m\u001b[0m\n",
            "\u001b[0;32m<ipython-input-71-7179ef6b4886>\u001b[0m in \u001b[0;36mrun\u001b[0;34m(run_dir, hparams)\u001b[0m\n\u001b[1;32m      2\u001b[0m   \u001b[0;32mwith\u001b[0m \u001b[0mtf\u001b[0m\u001b[0;34m.\u001b[0m\u001b[0msummary\u001b[0m\u001b[0;34m.\u001b[0m\u001b[0mcreate_file_writer\u001b[0m\u001b[0;34m(\u001b[0m\u001b[0mrun_dir\u001b[0m\u001b[0;34m)\u001b[0m\u001b[0;34m.\u001b[0m\u001b[0mas_default\u001b[0m\u001b[0;34m(\u001b[0m\u001b[0;34m)\u001b[0m\u001b[0;34m:\u001b[0m\u001b[0;34m\u001b[0m\u001b[0;34m\u001b[0m\u001b[0m\n\u001b[1;32m      3\u001b[0m     \u001b[0mhp\u001b[0m\u001b[0;34m.\u001b[0m\u001b[0mhparams\u001b[0m\u001b[0;34m(\u001b[0m\u001b[0mhparams\u001b[0m\u001b[0;34m)\u001b[0m  \u001b[0;31m# record the values used in this trial\u001b[0m\u001b[0;34m\u001b[0m\u001b[0;34m\u001b[0m\u001b[0m\n\u001b[0;32m----> 4\u001b[0;31m     \u001b[0maccuracy\u001b[0m \u001b[0;34m=\u001b[0m \u001b[0mtrain_test_model\u001b[0m\u001b[0;34m(\u001b[0m\u001b[0mhparams\u001b[0m\u001b[0;34m)\u001b[0m\u001b[0;34m\u001b[0m\u001b[0;34m\u001b[0m\u001b[0m\n\u001b[0m\u001b[1;32m      5\u001b[0m     \u001b[0mtf\u001b[0m\u001b[0;34m.\u001b[0m\u001b[0msummary\u001b[0m\u001b[0;34m.\u001b[0m\u001b[0mscalar\u001b[0m\u001b[0;34m(\u001b[0m\u001b[0mMETRIC_ACCURACY\u001b[0m\u001b[0;34m,\u001b[0m \u001b[0maccuracy\u001b[0m\u001b[0;34m,\u001b[0m \u001b[0mstep\u001b[0m\u001b[0;34m=\u001b[0m\u001b[0;36m50\u001b[0m\u001b[0;34m)\u001b[0m\u001b[0;34m\u001b[0m\u001b[0;34m\u001b[0m\u001b[0m\n",
            "\u001b[0;32m<ipython-input-70-b3f0453be47a>\u001b[0m in \u001b[0;36mtrain_test_model\u001b[0;34m(hparams)\u001b[0m\n\u001b[1;32m     34\u001b[0m \u001b[0;34m\u001b[0m\u001b[0m\n\u001b[1;32m     35\u001b[0m   model.fit(training_set, \n\u001b[0;32m---> 36\u001b[0;31m             \u001b[0mvalidation_data\u001b[0m\u001b[0;34m=\u001b[0m\u001b[0mvalidation_set\u001b[0m\u001b[0;34m,\u001b[0m\u001b[0;34m\u001b[0m\u001b[0;34m\u001b[0m\u001b[0m\n\u001b[0m\u001b[1;32m     37\u001b[0m             \u001b[0mepochs\u001b[0m\u001b[0;34m=\u001b[0m\u001b[0;36m10\u001b[0m\u001b[0;34m,\u001b[0m\u001b[0;34m\u001b[0m\u001b[0;34m\u001b[0m\u001b[0m\n\u001b[1;32m     38\u001b[0m             )\n",
            "\u001b[0;31mNameError\u001b[0m: name 'validation_set' is not defined"
          ]
        }
      ]
    },
    {
      "cell_type": "markdown",
      "metadata": {
        "id": "rq7qm2re1for"
      },
      "source": [
        "### Visualisasi hasil evaluasi semua model dengan hyperparameternya menggunakan Tensorboard"
      ]
    },
    {
      "cell_type": "code",
      "metadata": {
        "id": "5IeZTCpCQcrM",
        "colab": {
          "base_uri": "https://localhost:8080/",
          "height": 52
        },
        "outputId": "479a2468-affb-4bc7-9f91-d73d13e4ef36"
      },
      "source": [
        "%%bash\n",
        "wget -q 'https://storage.googleapis.com/download.tensorflow.org/tensorboard/hparams_demo_logs.zip'\n",
        "unzip -q hparams_demo_logs.zip -d logs/hparam_demo"
      ],
      "execution_count": null,
      "outputs": [
        {
          "output_type": "stream",
          "text": [
            "replace logs/hparam_demo/hparams_demo/0/events.out.tfevents.1550612933.goshri.c.googlers.com? [y]es, [n]o, [A]ll, [N]one, [r]ename:  NULL\n",
            "(EOF or read error, treating as \"[N]one\" ...)\n"
          ],
          "name": "stderr"
        }
      ]
    },
    {
      "cell_type": "code",
      "metadata": {
        "id": "0Fk-1aaWQjfU"
      },
      "source": [
        "%tensorboard --logdir logs/hparam_tuning"
      ],
      "execution_count": null,
      "outputs": []
    },
    {
      "cell_type": "code",
      "metadata": {
        "id": "p8ZfGdNCQyQC"
      },
      "source": [
        "!kill 5496"
      ],
      "execution_count": null,
      "outputs": []
    }
  ]
}